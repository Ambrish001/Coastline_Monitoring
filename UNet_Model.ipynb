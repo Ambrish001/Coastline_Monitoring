{
  "nbformat": 4,
  "nbformat_minor": 0,
  "metadata": {
    "colab": {
      "name": "UNet_Model.ipynb",
      "provenance": [],
      "collapsed_sections": [],
      "authorship_tag": "ABX9TyNa+oWEtUbocWwP94ggZi1g",
      "include_colab_link": true
    },
    "kernelspec": {
      "name": "python3",
      "display_name": "Python 3"
    },
    "language_info": {
      "name": "python"
    },
    "accelerator": "GPU",
    "gpuClass": "standard"
  },
  "cells": [
    {
      "cell_type": "markdown",
      "metadata": {
        "id": "view-in-github",
        "colab_type": "text"
      },
      "source": [
        "<a href=\"https://colab.research.google.com/github/Ambrish001/Coastline_Monitoring/blob/main/UNet_Model.ipynb\" target=\"_parent\"><img src=\"https://colab.research.google.com/assets/colab-badge.svg\" alt=\"Open In Colab\"/></a>"
      ]
    },
    {
      "cell_type": "code",
      "execution_count": null,
      "metadata": {
        "colab": {
          "base_uri": "https://localhost:8080/"
        },
        "id": "rVTsVIn2DXRq",
        "outputId": "cef93e6b-da07-4a2d-9a50-f9f1fbe097ae"
      },
      "outputs": [
        {
          "output_type": "stream",
          "name": "stdout",
          "text": [
            "Looking in indexes: https://pypi.org/simple, https://us-python.pkg.dev/colab-wheels/public/simple/\n",
            "Collecting imagecodecs\n",
            "  Downloading imagecodecs-2021.11.20-cp37-cp37m-manylinux_2_17_x86_64.manylinux2014_x86_64.whl (31.0 MB)\n",
            "\u001b[K     |████████████████████████████████| 31.0 MB 95.6 MB/s \n",
            "\u001b[?25hRequirement already satisfied: numpy>=1.16.5 in /usr/local/lib/python3.7/dist-packages (from imagecodecs) (1.21.6)\n",
            "Installing collected packages: imagecodecs\n",
            "Successfully installed imagecodecs-2021.11.20\n",
            "Looking in indexes: https://pypi.org/simple, https://us-python.pkg.dev/colab-wheels/public/simple/\n",
            "Collecting segmentation-models==1.0.1\n",
            "  Downloading segmentation_models-1.0.1-py3-none-any.whl (33 kB)\n",
            "Collecting efficientnet==1.0.0\n",
            "  Downloading efficientnet-1.0.0-py3-none-any.whl (17 kB)\n",
            "Requirement already satisfied: keras-applications<=1.0.8,>=1.0.7 in /tensorflow-1.15.2/python3.7 (from segmentation-models==1.0.1) (1.0.8)\n",
            "Collecting image-classifiers==1.0.0\n",
            "  Downloading image_classifiers-1.0.0-py3-none-any.whl (19 kB)\n",
            "Requirement already satisfied: scikit-image in /usr/local/lib/python3.7/dist-packages (from efficientnet==1.0.0->segmentation-models==1.0.1) (0.18.3)\n",
            "Requirement already satisfied: numpy>=1.9.1 in /usr/local/lib/python3.7/dist-packages (from keras-applications<=1.0.8,>=1.0.7->segmentation-models==1.0.1) (1.21.6)\n",
            "Requirement already satisfied: h5py in /usr/local/lib/python3.7/dist-packages (from keras-applications<=1.0.8,>=1.0.7->segmentation-models==1.0.1) (3.1.0)\n",
            "Requirement already satisfied: cached-property in /usr/local/lib/python3.7/dist-packages (from h5py->keras-applications<=1.0.8,>=1.0.7->segmentation-models==1.0.1) (1.5.2)\n",
            "Requirement already satisfied: tifffile>=2019.7.26 in /usr/local/lib/python3.7/dist-packages (from scikit-image->efficientnet==1.0.0->segmentation-models==1.0.1) (2021.11.2)\n",
            "Requirement already satisfied: imageio>=2.3.0 in /usr/local/lib/python3.7/dist-packages (from scikit-image->efficientnet==1.0.0->segmentation-models==1.0.1) (2.4.1)\n",
            "Requirement already satisfied: networkx>=2.0 in /usr/local/lib/python3.7/dist-packages (from scikit-image->efficientnet==1.0.0->segmentation-models==1.0.1) (2.6.3)\n",
            "Requirement already satisfied: matplotlib!=3.0.0,>=2.0.0 in /usr/local/lib/python3.7/dist-packages (from scikit-image->efficientnet==1.0.0->segmentation-models==1.0.1) (3.2.2)\n",
            "Requirement already satisfied: PyWavelets>=1.1.1 in /usr/local/lib/python3.7/dist-packages (from scikit-image->efficientnet==1.0.0->segmentation-models==1.0.1) (1.3.0)\n",
            "Requirement already satisfied: scipy>=1.0.1 in /usr/local/lib/python3.7/dist-packages (from scikit-image->efficientnet==1.0.0->segmentation-models==1.0.1) (1.4.1)\n",
            "Requirement already satisfied: pillow!=7.1.0,!=7.1.1,>=4.3.0 in /usr/local/lib/python3.7/dist-packages (from scikit-image->efficientnet==1.0.0->segmentation-models==1.0.1) (7.1.2)\n",
            "Requirement already satisfied: cycler>=0.10 in /usr/local/lib/python3.7/dist-packages (from matplotlib!=3.0.0,>=2.0.0->scikit-image->efficientnet==1.0.0->segmentation-models==1.0.1) (0.11.0)\n",
            "Requirement already satisfied: python-dateutil>=2.1 in /usr/local/lib/python3.7/dist-packages (from matplotlib!=3.0.0,>=2.0.0->scikit-image->efficientnet==1.0.0->segmentation-models==1.0.1) (2.8.2)\n",
            "Requirement already satisfied: kiwisolver>=1.0.1 in /usr/local/lib/python3.7/dist-packages (from matplotlib!=3.0.0,>=2.0.0->scikit-image->efficientnet==1.0.0->segmentation-models==1.0.1) (1.4.3)\n",
            "Requirement already satisfied: pyparsing!=2.0.4,!=2.1.2,!=2.1.6,>=2.0.1 in /usr/local/lib/python3.7/dist-packages (from matplotlib!=3.0.0,>=2.0.0->scikit-image->efficientnet==1.0.0->segmentation-models==1.0.1) (3.0.9)\n",
            "Requirement already satisfied: typing-extensions in /usr/local/lib/python3.7/dist-packages (from kiwisolver>=1.0.1->matplotlib!=3.0.0,>=2.0.0->scikit-image->efficientnet==1.0.0->segmentation-models==1.0.1) (4.1.1)\n",
            "Requirement already satisfied: six>=1.5 in /usr/local/lib/python3.7/dist-packages (from python-dateutil>=2.1->matplotlib!=3.0.0,>=2.0.0->scikit-image->efficientnet==1.0.0->segmentation-models==1.0.1) (1.15.0)\n",
            "Installing collected packages: image-classifiers, efficientnet, segmentation-models\n",
            "Successfully installed efficientnet-1.0.0 image-classifiers-1.0.0 segmentation-models-1.0.1\n"
          ]
        }
      ],
      "source": [
        "!pip install imagecodecs\n",
        "!pip install segmentation-models==1.0.1"
      ]
    },
    {
      "cell_type": "code",
      "source": [
        "%tensorflow_version 1.x\n",
        "import numpy as np\n",
        "import pandas as pd\n",
        "import glob\n",
        "import os\n",
        "import cv2\n",
        "from matplotlib import pyplot as plt\n",
        "import tifffile as tiff\n",
        "#import imagecodecs as ic\n",
        "#import segmentation_models as sm\n",
        "#from patchify import patchify"
      ],
      "metadata": {
        "id": "KgIm7ZNoqYiW",
        "colab": {
          "base_uri": "https://localhost:8080/"
        },
        "outputId": "7a0c8aef-34e0-4184-a486-d485c821dba4"
      },
      "execution_count": null,
      "outputs": [
        {
          "output_type": "stream",
          "name": "stdout",
          "text": [
            "WARNING: Tensorflow 1 is deprecated, and support will be removed on August 1, 2022.\n",
            "After that, `%tensorflow_version 1.x` will throw an error.\n",
            "\n",
            "Your notebook should be updated to use Tensorflow 2.\n",
            "See the guide at https://www.tensorflow.org/guide/migrate#migrate-from-tensorflow-1x-to-tensorflow-2.\n",
            "\n",
            "TensorFlow 1.x selected.\n"
          ]
        }
      ]
    },
    {
      "cell_type": "code",
      "source": [
        "from google.colab import drive\n",
        "drive.mount(\"/content/drive\")"
      ],
      "metadata": {
        "colab": {
          "base_uri": "https://localhost:8080/"
        },
        "id": "CVamapP_rTnm",
        "outputId": "acc5c55c-f029-43b4-978d-e3440f3ae19a"
      },
      "execution_count": null,
      "outputs": [
        {
          "output_type": "stream",
          "name": "stdout",
          "text": [
            "Mounted at /content/drive\n"
          ]
        }
      ]
    },
    {
      "cell_type": "code",
      "source": [
        "path_img = sorted(glob.glob(\"/content/drive/MyDrive/UCD_Research/Sat_Data/*.TIF\"))\n",
        "path_msk = sorted(glob.glob(\"/content/drive/MyDrive/UCD_Research/Sat_Data/*_mask.tif\"))\n",
        "large_image_stack = []\n",
        "large_msk_stack = []\n",
        "for file in path_msk:\n",
        "  x = cv2.imread(file)\n",
        "  y = cv2.resize(x,(256,256),interpolation = cv2.INTER_CUBIC)\n",
        "  large_msk_stack.append(y)  \n",
        "for file in path_img:\n",
        "  x = cv2.imread(file)\n",
        "  y = cv2.resize(x,(256,256),interpolation = cv2.INTER_CUBIC)\n",
        "  large_image_stack.append(y)"
      ],
      "metadata": {
        "id": "HifRmWp4rspw"
      },
      "execution_count": null,
      "outputs": []
    },
    {
      "cell_type": "code",
      "source": [
        "print(large_image_stack[0].shape,len(large_image_stack))\n",
        "print(large_msk_stack[0].shape,len(large_msk_stack))"
      ],
      "metadata": {
        "id": "_J06zG89Wo5s",
        "colab": {
          "base_uri": "https://localhost:8080/"
        },
        "outputId": "53a7e4c9-1e32-42ca-c32a-2fe23f23d54f"
      },
      "execution_count": null,
      "outputs": [
        {
          "output_type": "stream",
          "name": "stdout",
          "text": [
            "(256, 256, 3) 91\n",
            "(256, 256, 3) 91\n"
          ]
        }
      ]
    },
    {
      "cell_type": "code",
      "source": [
        "img_arr = np.array([i for i in large_image_stack])\n",
        "msk_arr = np.array([i for i in large_msk_stack])"
      ],
      "metadata": {
        "id": "68Jm08fXfJWc"
      },
      "execution_count": null,
      "outputs": []
    },
    {
      "cell_type": "code",
      "source": [
        "BACKBONE = 'resnet34'\n",
        "preprocess_input1 = sm.get_preprocessing(BACKBONE)\n",
        "# preprocess input\n",
        "img_arr_pro = preprocess_input1(img_arr)\n",
        "print(img_arr_pro.shape)"
      ],
      "metadata": {
        "colab": {
          "base_uri": "https://localhost:8080/"
        },
        "id": "lk_VW0ims4Ze",
        "outputId": "7dcbe43f-19f0-405e-a8ac-f89d3af078a8"
      },
      "execution_count": null,
      "outputs": [
        {
          "output_type": "stream",
          "name": "stdout",
          "text": [
            "(91, 1920, 1080, 3)\n"
          ]
        }
      ]
    },
    {
      "cell_type": "code",
      "source": [
        "from sklearn.model_selection import train_test_split\n",
        "X_train, X_test, y_train, y_test = train_test_split(img_arr, msk_arr, test_size = 0.2, random_state = 42)\n",
        "print(X_train.shape)\n",
        "print(X_test.shape)\n"
      ],
      "metadata": {
        "colab": {
          "base_uri": "https://localhost:8080/"
        },
        "id": "-_3z4BiYu4VM",
        "outputId": "18828097-2c67-4eb8-b54b-983ced3a29e5"
      },
      "execution_count": null,
      "outputs": [
        {
          "output_type": "stream",
          "name": "stdout",
          "text": [
            "(72, 256, 256, 3)\n",
            "(19, 256, 256, 3)\n"
          ]
        }
      ]
    },
    {
      "cell_type": "code",
      "source": [
        "from keras.models import Model\n",
        "from keras.layers import Input, Conv2D, MaxPooling2D, UpSampling2D, concatenate, Conv2DTranspose, BatchNormalization, Dropout, Lambda\n",
        "from keras.optimizers import Adam\n",
        "from keras.layers import Activation, MaxPool2D, Concatenate\n",
        "\n",
        "\n",
        "def conv_block(input, num_filters):\n",
        "    x = Conv2D(num_filters, 3, padding=\"same\")(input)\n",
        "    x = BatchNormalization()(x)   #Not in the original network. \n",
        "    x = Activation(\"relu\")(x)\n",
        "\n",
        "    x = Conv2D(num_filters, 3, padding=\"same\")(x)\n",
        "    x = BatchNormalization()(x)  #Not in the original network\n",
        "    x = Activation(\"relu\")(x)\n",
        "\n",
        "    return x\n",
        "\n",
        "#Encoder block: Conv block followed by maxpooling\n",
        "\n",
        "\n",
        "def encoder_block(input, num_filters):\n",
        "    x = conv_block(input, num_filters)\n",
        "    p = MaxPool2D((2, 2))(x)\n",
        "    return x, p   \n",
        "\n",
        "#Decoder block\n",
        "#skip features gets input from encoder for concatenation\n",
        "\n",
        "def decoder_block(input, skip_features, num_filters):\n",
        "    x = Conv2DTranspose(num_filters, (2, 2), strides=2, padding=\"same\")(input)\n",
        "    x = Concatenate()([x, skip_features])\n",
        "    x = conv_block(x, num_filters)\n",
        "    return x\n",
        "\n",
        "#Build Unet using the blocks\n",
        "def build_unet(input_shape, n_classes):\n",
        "    inputs = Input(input_shape)\n",
        "\n",
        "    s1, p1 = encoder_block(inputs, 64)\n",
        "    s2, p2 = encoder_block(p1, 128)\n",
        "    s3, p3 = encoder_block(p2, 256)\n",
        "    s4, p4 = encoder_block(p3, 512)\n",
        "    b1 = conv_block(p4, 1024) #Bridge\n",
        "\n",
        "    d1 = decoder_block(b1, s4, 512)\n",
        "    d2 = decoder_block(d1, s3, 256)\n",
        "    d3 = decoder_block(d2, s2, 128)\n",
        "    d4 = decoder_block(d3, s1, 64)\n",
        "\n",
        "    if n_classes == 1:  #Binary\n",
        "      activation = 'sigmoid'\n",
        "    else:\n",
        "      activation = 'softmax'\n",
        "\n",
        "    outputs = Conv2D(3, 1, padding=\"same\", activation=activation)(d4)  #Change the activation based on n_classes\n",
        "    print(activation)\n",
        "\n",
        "    model = Model(inputs, outputs, name=\"U-Net\")\n",
        "    return model"
      ],
      "metadata": {
        "colab": {
          "base_uri": "https://localhost:8080/"
        },
        "id": "GmaUxgKi3pws",
        "outputId": "6ae711a1-3af1-42c6-a660-5c6ad856a568"
      },
      "execution_count": null,
      "outputs": [
        {
          "output_type": "stream",
          "name": "stderr",
          "text": [
            "Using TensorFlow backend.\n"
          ]
        }
      ]
    },
    {
      "cell_type": "code",
      "source": [
        "IMG_HEIGHT = img_arr.shape[1]\n",
        "IMG_WIDTH  = img_arr.shape[2]\n",
        "IMG_CHANNELS = img_arr.shape[3]\n",
        "\n",
        "input_shape = (IMG_HEIGHT, IMG_WIDTH, IMG_CHANNELS)\n",
        "print(input_shape)"
      ],
      "metadata": {
        "colab": {
          "base_uri": "https://localhost:8080/"
        },
        "id": "HpdicTOp3zHm",
        "outputId": "cf180d4b-fa5c-4c6b-bc92-26c00c72297e"
      },
      "execution_count": null,
      "outputs": [
        {
          "output_type": "stream",
          "name": "stdout",
          "text": [
            "(256, 256, 3)\n"
          ]
        }
      ]
    },
    {
      "cell_type": "code",
      "source": [
        "import tensorflow as tf\n",
        "model = build_unet(input_shape, n_classes=1)\n",
        "model.compile(optimizer=Adam(learning_rate = 1e-3), loss='categorical_crossentropy', metrics=['accuracy'])\n",
        "model.summary()"
      ],
      "metadata": {
        "colab": {
          "base_uri": "https://localhost:8080/"
        },
        "id": "oTa_4y-X33MY",
        "outputId": "104274f8-4aca-417a-a466-e76e0d801a6a"
      },
      "execution_count": null,
      "outputs": [
        {
          "output_type": "stream",
          "name": "stdout",
          "text": [
            "WARNING:tensorflow:From /tensorflow-1.15.2/python3.7/tensorflow_core/python/ops/resource_variable_ops.py:1630: calling BaseResourceVariable.__init__ (from tensorflow.python.ops.resource_variable_ops) with constraint is deprecated and will be removed in a future version.\n",
            "Instructions for updating:\n",
            "If using Keras pass *_constraint arguments to layers.\n",
            "WARNING:tensorflow:From /tensorflow-1.15.2/python3.7/keras/backend/tensorflow_backend.py:4070: The name tf.nn.max_pool is deprecated. Please use tf.nn.max_pool2d instead.\n",
            "\n",
            "sigmoid\n",
            "Model: \"U-Net\"\n",
            "__________________________________________________________________________________________________\n",
            "Layer (type)                    Output Shape         Param #     Connected to                     \n",
            "==================================================================================================\n",
            "input_1 (InputLayer)            (None, 256, 256, 3)  0                                            \n",
            "__________________________________________________________________________________________________\n",
            "conv2d_1 (Conv2D)               (None, 256, 256, 64) 1792        input_1[0][0]                    \n",
            "__________________________________________________________________________________________________\n",
            "batch_normalization_1 (BatchNor (None, 256, 256, 64) 256         conv2d_1[0][0]                   \n",
            "__________________________________________________________________________________________________\n",
            "activation_1 (Activation)       (None, 256, 256, 64) 0           batch_normalization_1[0][0]      \n",
            "__________________________________________________________________________________________________\n",
            "conv2d_2 (Conv2D)               (None, 256, 256, 64) 36928       activation_1[0][0]               \n",
            "__________________________________________________________________________________________________\n",
            "batch_normalization_2 (BatchNor (None, 256, 256, 64) 256         conv2d_2[0][0]                   \n",
            "__________________________________________________________________________________________________\n",
            "activation_2 (Activation)       (None, 256, 256, 64) 0           batch_normalization_2[0][0]      \n",
            "__________________________________________________________________________________________________\n",
            "max_pooling2d_1 (MaxPooling2D)  (None, 128, 128, 64) 0           activation_2[0][0]               \n",
            "__________________________________________________________________________________________________\n",
            "conv2d_3 (Conv2D)               (None, 128, 128, 128 73856       max_pooling2d_1[0][0]            \n",
            "__________________________________________________________________________________________________\n",
            "batch_normalization_3 (BatchNor (None, 128, 128, 128 512         conv2d_3[0][0]                   \n",
            "__________________________________________________________________________________________________\n",
            "activation_3 (Activation)       (None, 128, 128, 128 0           batch_normalization_3[0][0]      \n",
            "__________________________________________________________________________________________________\n",
            "conv2d_4 (Conv2D)               (None, 128, 128, 128 147584      activation_3[0][0]               \n",
            "__________________________________________________________________________________________________\n",
            "batch_normalization_4 (BatchNor (None, 128, 128, 128 512         conv2d_4[0][0]                   \n",
            "__________________________________________________________________________________________________\n",
            "activation_4 (Activation)       (None, 128, 128, 128 0           batch_normalization_4[0][0]      \n",
            "__________________________________________________________________________________________________\n",
            "max_pooling2d_2 (MaxPooling2D)  (None, 64, 64, 128)  0           activation_4[0][0]               \n",
            "__________________________________________________________________________________________________\n",
            "conv2d_5 (Conv2D)               (None, 64, 64, 256)  295168      max_pooling2d_2[0][0]            \n",
            "__________________________________________________________________________________________________\n",
            "batch_normalization_5 (BatchNor (None, 64, 64, 256)  1024        conv2d_5[0][0]                   \n",
            "__________________________________________________________________________________________________\n",
            "activation_5 (Activation)       (None, 64, 64, 256)  0           batch_normalization_5[0][0]      \n",
            "__________________________________________________________________________________________________\n",
            "conv2d_6 (Conv2D)               (None, 64, 64, 256)  590080      activation_5[0][0]               \n",
            "__________________________________________________________________________________________________\n",
            "batch_normalization_6 (BatchNor (None, 64, 64, 256)  1024        conv2d_6[0][0]                   \n",
            "__________________________________________________________________________________________________\n",
            "activation_6 (Activation)       (None, 64, 64, 256)  0           batch_normalization_6[0][0]      \n",
            "__________________________________________________________________________________________________\n",
            "max_pooling2d_3 (MaxPooling2D)  (None, 32, 32, 256)  0           activation_6[0][0]               \n",
            "__________________________________________________________________________________________________\n",
            "conv2d_7 (Conv2D)               (None, 32, 32, 512)  1180160     max_pooling2d_3[0][0]            \n",
            "__________________________________________________________________________________________________\n",
            "batch_normalization_7 (BatchNor (None, 32, 32, 512)  2048        conv2d_7[0][0]                   \n",
            "__________________________________________________________________________________________________\n",
            "activation_7 (Activation)       (None, 32, 32, 512)  0           batch_normalization_7[0][0]      \n",
            "__________________________________________________________________________________________________\n",
            "conv2d_8 (Conv2D)               (None, 32, 32, 512)  2359808     activation_7[0][0]               \n",
            "__________________________________________________________________________________________________\n",
            "batch_normalization_8 (BatchNor (None, 32, 32, 512)  2048        conv2d_8[0][0]                   \n",
            "__________________________________________________________________________________________________\n",
            "activation_8 (Activation)       (None, 32, 32, 512)  0           batch_normalization_8[0][0]      \n",
            "__________________________________________________________________________________________________\n",
            "max_pooling2d_4 (MaxPooling2D)  (None, 16, 16, 512)  0           activation_8[0][0]               \n",
            "__________________________________________________________________________________________________\n",
            "conv2d_9 (Conv2D)               (None, 16, 16, 1024) 4719616     max_pooling2d_4[0][0]            \n",
            "__________________________________________________________________________________________________\n",
            "batch_normalization_9 (BatchNor (None, 16, 16, 1024) 4096        conv2d_9[0][0]                   \n",
            "__________________________________________________________________________________________________\n",
            "activation_9 (Activation)       (None, 16, 16, 1024) 0           batch_normalization_9[0][0]      \n",
            "__________________________________________________________________________________________________\n",
            "conv2d_10 (Conv2D)              (None, 16, 16, 1024) 9438208     activation_9[0][0]               \n",
            "__________________________________________________________________________________________________\n",
            "batch_normalization_10 (BatchNo (None, 16, 16, 1024) 4096        conv2d_10[0][0]                  \n",
            "__________________________________________________________________________________________________\n",
            "activation_10 (Activation)      (None, 16, 16, 1024) 0           batch_normalization_10[0][0]     \n",
            "__________________________________________________________________________________________________\n",
            "conv2d_transpose_1 (Conv2DTrans (None, 32, 32, 512)  2097664     activation_10[0][0]              \n",
            "__________________________________________________________________________________________________\n",
            "concatenate_1 (Concatenate)     (None, 32, 32, 1024) 0           conv2d_transpose_1[0][0]         \n",
            "                                                                 activation_8[0][0]               \n",
            "__________________________________________________________________________________________________\n",
            "conv2d_11 (Conv2D)              (None, 32, 32, 512)  4719104     concatenate_1[0][0]              \n",
            "__________________________________________________________________________________________________\n",
            "batch_normalization_11 (BatchNo (None, 32, 32, 512)  2048        conv2d_11[0][0]                  \n",
            "__________________________________________________________________________________________________\n",
            "activation_11 (Activation)      (None, 32, 32, 512)  0           batch_normalization_11[0][0]     \n",
            "__________________________________________________________________________________________________\n",
            "conv2d_12 (Conv2D)              (None, 32, 32, 512)  2359808     activation_11[0][0]              \n",
            "__________________________________________________________________________________________________\n",
            "batch_normalization_12 (BatchNo (None, 32, 32, 512)  2048        conv2d_12[0][0]                  \n",
            "__________________________________________________________________________________________________\n",
            "activation_12 (Activation)      (None, 32, 32, 512)  0           batch_normalization_12[0][0]     \n",
            "__________________________________________________________________________________________________\n",
            "conv2d_transpose_2 (Conv2DTrans (None, 64, 64, 256)  524544      activation_12[0][0]              \n",
            "__________________________________________________________________________________________________\n",
            "concatenate_2 (Concatenate)     (None, 64, 64, 512)  0           conv2d_transpose_2[0][0]         \n",
            "                                                                 activation_6[0][0]               \n",
            "__________________________________________________________________________________________________\n",
            "conv2d_13 (Conv2D)              (None, 64, 64, 256)  1179904     concatenate_2[0][0]              \n",
            "__________________________________________________________________________________________________\n",
            "batch_normalization_13 (BatchNo (None, 64, 64, 256)  1024        conv2d_13[0][0]                  \n",
            "__________________________________________________________________________________________________\n",
            "activation_13 (Activation)      (None, 64, 64, 256)  0           batch_normalization_13[0][0]     \n",
            "__________________________________________________________________________________________________\n",
            "conv2d_14 (Conv2D)              (None, 64, 64, 256)  590080      activation_13[0][0]              \n",
            "__________________________________________________________________________________________________\n",
            "batch_normalization_14 (BatchNo (None, 64, 64, 256)  1024        conv2d_14[0][0]                  \n",
            "__________________________________________________________________________________________________\n",
            "activation_14 (Activation)      (None, 64, 64, 256)  0           batch_normalization_14[0][0]     \n",
            "__________________________________________________________________________________________________\n",
            "conv2d_transpose_3 (Conv2DTrans (None, 128, 128, 128 131200      activation_14[0][0]              \n",
            "__________________________________________________________________________________________________\n",
            "concatenate_3 (Concatenate)     (None, 128, 128, 256 0           conv2d_transpose_3[0][0]         \n",
            "                                                                 activation_4[0][0]               \n",
            "__________________________________________________________________________________________________\n",
            "conv2d_15 (Conv2D)              (None, 128, 128, 128 295040      concatenate_3[0][0]              \n",
            "__________________________________________________________________________________________________\n",
            "batch_normalization_15 (BatchNo (None, 128, 128, 128 512         conv2d_15[0][0]                  \n",
            "__________________________________________________________________________________________________\n",
            "activation_15 (Activation)      (None, 128, 128, 128 0           batch_normalization_15[0][0]     \n",
            "__________________________________________________________________________________________________\n",
            "conv2d_16 (Conv2D)              (None, 128, 128, 128 147584      activation_15[0][0]              \n",
            "__________________________________________________________________________________________________\n",
            "batch_normalization_16 (BatchNo (None, 128, 128, 128 512         conv2d_16[0][0]                  \n",
            "__________________________________________________________________________________________________\n",
            "activation_16 (Activation)      (None, 128, 128, 128 0           batch_normalization_16[0][0]     \n",
            "__________________________________________________________________________________________________\n",
            "conv2d_transpose_4 (Conv2DTrans (None, 256, 256, 64) 32832       activation_16[0][0]              \n",
            "__________________________________________________________________________________________________\n",
            "concatenate_4 (Concatenate)     (None, 256, 256, 128 0           conv2d_transpose_4[0][0]         \n",
            "                                                                 activation_2[0][0]               \n",
            "__________________________________________________________________________________________________\n",
            "conv2d_17 (Conv2D)              (None, 256, 256, 64) 73792       concatenate_4[0][0]              \n",
            "__________________________________________________________________________________________________\n",
            "batch_normalization_17 (BatchNo (None, 256, 256, 64) 256         conv2d_17[0][0]                  \n",
            "__________________________________________________________________________________________________\n",
            "activation_17 (Activation)      (None, 256, 256, 64) 0           batch_normalization_17[0][0]     \n",
            "__________________________________________________________________________________________________\n",
            "conv2d_18 (Conv2D)              (None, 256, 256, 64) 36928       activation_17[0][0]              \n",
            "__________________________________________________________________________________________________\n",
            "batch_normalization_18 (BatchNo (None, 256, 256, 64) 256         conv2d_18[0][0]                  \n",
            "__________________________________________________________________________________________________\n",
            "activation_18 (Activation)      (None, 256, 256, 64) 0           batch_normalization_18[0][0]     \n",
            "__________________________________________________________________________________________________\n",
            "conv2d_19 (Conv2D)              (None, 256, 256, 3)  195         activation_18[0][0]              \n",
            "==================================================================================================\n",
            "Total params: 31,055,427\n",
            "Trainable params: 31,043,651\n",
            "Non-trainable params: 11,776\n",
            "__________________________________________________________________________________________________\n"
          ]
        }
      ]
    },
    {
      "cell_type": "code",
      "source": [
        "history = model.fit(X_train, y_train, \n",
        "                    batch_size = 16, \n",
        "                    verbose=1, \n",
        "                    epochs=75, \n",
        "                    validation_data=(X_test, y_test), \n",
        "                    shuffle=False)"
      ],
      "metadata": {
        "colab": {
          "base_uri": "https://localhost:8080/"
        },
        "id": "Brtj920l34T8",
        "outputId": "01116707-2d55-4f97-fcc2-3aef4a426257"
      },
      "execution_count": null,
      "outputs": [
        {
          "output_type": "stream",
          "name": "stdout",
          "text": [
            "WARNING:tensorflow:From /tensorflow-1.15.2/python3.7/tensorflow_core/python/ops/math_grad.py:1424: where (from tensorflow.python.ops.array_ops) is deprecated and will be removed in a future version.\n",
            "Instructions for updating:\n",
            "Use tf.where in 2.0, which has the same broadcast rule as np.where\n",
            "WARNING:tensorflow:From /tensorflow-1.15.2/python3.7/keras/backend/tensorflow_backend.py:422: The name tf.global_variables is deprecated. Please use tf.compat.v1.global_variables instead.\n",
            "\n",
            "Train on 72 samples, validate on 19 samples\n",
            "Epoch 1/75\n",
            "72/72 [==============================] - 28s 393ms/step - loss: 387.1445 - accuracy: 0.7835 - val_loss: 440.6147 - val_accuracy: 0.3564\n",
            "Epoch 2/75\n",
            "72/72 [==============================] - 4s 59ms/step - loss: 369.7234 - accuracy: 0.9182 - val_loss: 386.8701 - val_accuracy: 0.3564\n",
            "Epoch 3/75\n",
            "72/72 [==============================] - 4s 60ms/step - loss: 368.7975 - accuracy: 0.9449 - val_loss: 386.1619 - val_accuracy: 0.3564\n",
            "Epoch 4/75\n",
            "72/72 [==============================] - 4s 60ms/step - loss: 368.4172 - accuracy: 0.9408 - val_loss: 386.1619 - val_accuracy: 0.3564\n",
            "Epoch 5/75\n",
            "72/72 [==============================] - 4s 59ms/step - loss: 368.2237 - accuracy: 0.9458 - val_loss: 386.1619 - val_accuracy: 0.3564\n",
            "Epoch 6/75\n",
            "72/72 [==============================] - 4s 59ms/step - loss: 368.0417 - accuracy: 0.9525 - val_loss: 386.1619 - val_accuracy: 0.3564\n",
            "Epoch 7/75\n",
            "72/72 [==============================] - 4s 60ms/step - loss: 367.8695 - accuracy: 0.9484 - val_loss: 386.1619 - val_accuracy: 0.3564\n",
            "Epoch 8/75\n",
            "72/72 [==============================] - 4s 60ms/step - loss: 367.6097 - accuracy: 0.9431 - val_loss: 386.1620 - val_accuracy: 0.3562\n",
            "Epoch 9/75\n",
            "72/72 [==============================] - 4s 60ms/step - loss: 367.2387 - accuracy: 0.9526 - val_loss: 386.1619 - val_accuracy: 0.3564\n",
            "Epoch 10/75\n",
            "72/72 [==============================] - 4s 60ms/step - loss: 367.5273 - accuracy: 0.9537 - val_loss: 386.1619 - val_accuracy: 0.3564\n",
            "Epoch 11/75\n",
            "72/72 [==============================] - 4s 61ms/step - loss: 367.2781 - accuracy: 0.9517 - val_loss: 386.1619 - val_accuracy: 0.3562\n",
            "Epoch 12/75\n",
            "72/72 [==============================] - 4s 61ms/step - loss: 366.8313 - accuracy: 0.9589 - val_loss: 386.1619 - val_accuracy: 0.3564\n",
            "Epoch 13/75\n",
            "72/72 [==============================] - 4s 61ms/step - loss: 366.6703 - accuracy: 0.9556 - val_loss: 386.1607 - val_accuracy: 0.3564\n",
            "Epoch 14/75\n",
            "72/72 [==============================] - 4s 61ms/step - loss: 366.6487 - accuracy: 0.9625 - val_loss: 386.1537 - val_accuracy: 0.3561\n",
            "Epoch 15/75\n",
            "72/72 [==============================] - 4s 61ms/step - loss: 366.7057 - accuracy: 0.9624 - val_loss: 386.1520 - val_accuracy: 0.3562\n",
            "Epoch 16/75\n",
            "72/72 [==============================] - 4s 62ms/step - loss: 366.3313 - accuracy: 0.9740 - val_loss: 386.1618 - val_accuracy: 0.3563\n",
            "Epoch 17/75\n",
            "72/72 [==============================] - 4s 62ms/step - loss: 366.0480 - accuracy: 0.9778 - val_loss: 386.1615 - val_accuracy: 0.3564\n",
            "Epoch 18/75\n",
            "72/72 [==============================] - 4s 61ms/step - loss: 365.8992 - accuracy: 0.9779 - val_loss: 386.1446 - val_accuracy: 0.3563\n",
            "Epoch 19/75\n",
            "72/72 [==============================] - 4s 61ms/step - loss: 365.8800 - accuracy: 0.9741 - val_loss: 386.1442 - val_accuracy: 0.3564\n",
            "Epoch 20/75\n",
            "72/72 [==============================] - 4s 61ms/step - loss: 365.8566 - accuracy: 0.9723 - val_loss: 386.1132 - val_accuracy: 0.3561\n",
            "Epoch 21/75\n",
            "72/72 [==============================] - 4s 61ms/step - loss: 365.7314 - accuracy: 0.9770 - val_loss: 386.0608 - val_accuracy: 0.3558\n",
            "Epoch 22/75\n",
            "72/72 [==============================] - 4s 61ms/step - loss: 365.7274 - accuracy: 0.9790 - val_loss: 386.1970 - val_accuracy: 0.3562\n",
            "Epoch 23/75\n",
            "72/72 [==============================] - 4s 61ms/step - loss: 365.7854 - accuracy: 0.9752 - val_loss: 386.0870 - val_accuracy: 0.3562\n",
            "Epoch 24/75\n",
            "72/72 [==============================] - 4s 61ms/step - loss: 365.7557 - accuracy: 0.9781 - val_loss: 385.7612 - val_accuracy: 0.3553\n",
            "Epoch 25/75\n",
            "72/72 [==============================] - 4s 61ms/step - loss: 365.6530 - accuracy: 0.9801 - val_loss: 383.9567 - val_accuracy: 0.3540\n",
            "Epoch 26/75\n",
            "72/72 [==============================] - 4s 61ms/step - loss: 365.7113 - accuracy: 0.9796 - val_loss: 383.5155 - val_accuracy: 0.3768\n",
            "Epoch 27/75\n",
            "72/72 [==============================] - 4s 61ms/step - loss: 365.8448 - accuracy: 0.9791 - val_loss: 384.9279 - val_accuracy: 0.3604\n",
            "Epoch 28/75\n",
            "72/72 [==============================] - 4s 61ms/step - loss: 365.8031 - accuracy: 0.9766 - val_loss: 385.2434 - val_accuracy: 0.3881\n",
            "Epoch 29/75\n",
            "72/72 [==============================] - 4s 61ms/step - loss: 366.0655 - accuracy: 0.9759 - val_loss: 385.1424 - val_accuracy: 0.3938\n",
            "Epoch 30/75\n",
            "72/72 [==============================] - 4s 61ms/step - loss: 365.8242 - accuracy: 0.9787 - val_loss: 383.5214 - val_accuracy: 0.4332\n",
            "Epoch 31/75\n",
            "72/72 [==============================] - 4s 61ms/step - loss: 365.7057 - accuracy: 0.9766 - val_loss: 440.3470 - val_accuracy: 0.4473\n",
            "Epoch 32/75\n",
            "72/72 [==============================] - 4s 61ms/step - loss: 365.6995 - accuracy: 0.9782 - val_loss: 388.9839 - val_accuracy: 0.3563\n",
            "Epoch 33/75\n",
            "72/72 [==============================] - 4s 61ms/step - loss: 365.6763 - accuracy: 0.9802 - val_loss: 383.8191 - val_accuracy: 0.4357\n",
            "Epoch 34/75\n",
            "72/72 [==============================] - 4s 61ms/step - loss: 365.5949 - accuracy: 0.9803 - val_loss: 464.8995 - val_accuracy: 0.5744\n",
            "Epoch 35/75\n",
            "72/72 [==============================] - 4s 61ms/step - loss: 365.5613 - accuracy: 0.9817 - val_loss: 399.7732 - val_accuracy: 0.7386\n",
            "Epoch 36/75\n",
            "72/72 [==============================] - 4s 61ms/step - loss: 365.5001 - accuracy: 0.9833 - val_loss: 379.7308 - val_accuracy: 0.8941\n",
            "Epoch 37/75\n",
            "72/72 [==============================] - 4s 61ms/step - loss: 365.4565 - accuracy: 0.9837 - val_loss: 368.0940 - val_accuracy: 0.9594\n",
            "Epoch 38/75\n",
            "72/72 [==============================] - 4s 61ms/step - loss: 365.4254 - accuracy: 0.9832 - val_loss: 368.3128 - val_accuracy: 0.9624\n",
            "Epoch 39/75\n",
            "72/72 [==============================] - 4s 61ms/step - loss: 365.4204 - accuracy: 0.9819 - val_loss: 367.9171 - val_accuracy: 0.9664\n",
            "Epoch 40/75\n",
            "72/72 [==============================] - 4s 61ms/step - loss: 365.4217 - accuracy: 0.9841 - val_loss: 371.3807 - val_accuracy: 0.9713\n",
            "Epoch 41/75\n",
            "72/72 [==============================] - 4s 61ms/step - loss: 365.4090 - accuracy: 0.9832 - val_loss: 369.5672 - val_accuracy: 0.9654\n",
            "Epoch 42/75\n",
            "72/72 [==============================] - 4s 61ms/step - loss: 365.3876 - accuracy: 0.9846 - val_loss: 365.3309 - val_accuracy: 0.9731\n",
            "Epoch 43/75\n",
            "72/72 [==============================] - 4s 61ms/step - loss: 365.3729 - accuracy: 0.9839 - val_loss: 365.0068 - val_accuracy: 0.9750\n",
            "Epoch 44/75\n",
            "72/72 [==============================] - 4s 61ms/step - loss: 365.3595 - accuracy: 0.9841 - val_loss: 364.8341 - val_accuracy: 0.9760\n",
            "Epoch 45/75\n",
            "72/72 [==============================] - 4s 61ms/step - loss: 365.3569 - accuracy: 0.9838 - val_loss: 364.4126 - val_accuracy: 0.9783\n",
            "Epoch 46/75\n",
            "72/72 [==============================] - 4s 61ms/step - loss: 365.3481 - accuracy: 0.9838 - val_loss: 364.2323 - val_accuracy: 0.9804\n",
            "Epoch 47/75\n",
            "72/72 [==============================] - 4s 61ms/step - loss: 365.4245 - accuracy: 0.9834 - val_loss: 369.9096 - val_accuracy: 0.7817\n",
            "Epoch 48/75\n",
            "72/72 [==============================] - 4s 61ms/step - loss: 365.5629 - accuracy: 0.9837 - val_loss: 372.4899 - val_accuracy: 0.6611\n",
            "Epoch 49/75\n",
            "72/72 [==============================] - 4s 61ms/step - loss: 365.5744 - accuracy: 0.9838 - val_loss: 373.2588 - val_accuracy: 0.5895\n",
            "Epoch 50/75\n",
            "72/72 [==============================] - 4s 61ms/step - loss: 365.4943 - accuracy: 0.9828 - val_loss: 373.1304 - val_accuracy: 0.6404\n",
            "Epoch 51/75\n",
            "72/72 [==============================] - 4s 61ms/step - loss: 365.4568 - accuracy: 0.9832 - val_loss: 372.7853 - val_accuracy: 0.7477\n",
            "Epoch 52/75\n",
            "72/72 [==============================] - 4s 61ms/step - loss: 365.4198 - accuracy: 0.9842 - val_loss: 371.7873 - val_accuracy: 0.8455\n",
            "Epoch 53/75\n",
            "72/72 [==============================] - 4s 61ms/step - loss: 365.3877 - accuracy: 0.9845 - val_loss: 368.9222 - val_accuracy: 0.8925\n",
            "Epoch 54/75\n",
            "72/72 [==============================] - 4s 61ms/step - loss: 365.3746 - accuracy: 0.9837 - val_loss: 366.1717 - val_accuracy: 0.9268\n",
            "Epoch 55/75\n",
            "72/72 [==============================] - 4s 61ms/step - loss: 365.3648 - accuracy: 0.9834 - val_loss: 365.3383 - val_accuracy: 0.9528\n",
            "Epoch 56/75\n",
            "72/72 [==============================] - 4s 61ms/step - loss: 365.3462 - accuracy: 0.9839 - val_loss: 364.9058 - val_accuracy: 0.9589\n",
            "Epoch 57/75\n",
            "72/72 [==============================] - 4s 61ms/step - loss: 365.3349 - accuracy: 0.9834 - val_loss: 364.5668 - val_accuracy: 0.9630\n",
            "Epoch 58/75\n",
            "72/72 [==============================] - 4s 61ms/step - loss: 365.3277 - accuracy: 0.9829 - val_loss: 364.4803 - val_accuracy: 0.9656\n",
            "Epoch 59/75\n",
            "72/72 [==============================] - 4s 61ms/step - loss: 365.3184 - accuracy: 0.9828 - val_loss: 364.2025 - val_accuracy: 0.9700\n",
            "Epoch 60/75\n",
            "72/72 [==============================] - 4s 61ms/step - loss: 365.3121 - accuracy: 0.9829 - val_loss: 364.2164 - val_accuracy: 0.9723\n",
            "Epoch 61/75\n",
            "72/72 [==============================] - 4s 61ms/step - loss: 365.3031 - accuracy: 0.9832 - val_loss: 364.0197 - val_accuracy: 0.9753\n",
            "Epoch 62/75\n",
            "72/72 [==============================] - 4s 61ms/step - loss: 365.3007 - accuracy: 0.9833 - val_loss: 363.9020 - val_accuracy: 0.9766\n",
            "Epoch 63/75\n",
            "72/72 [==============================] - 4s 61ms/step - loss: 365.2975 - accuracy: 0.9835 - val_loss: 363.8420 - val_accuracy: 0.9784\n",
            "Epoch 64/75\n",
            "72/72 [==============================] - 4s 61ms/step - loss: 365.3010 - accuracy: 0.9837 - val_loss: 363.8534 - val_accuracy: 0.9792\n",
            "Epoch 65/75\n",
            "72/72 [==============================] - 4s 61ms/step - loss: 365.3032 - accuracy: 0.9837 - val_loss: 363.8274 - val_accuracy: 0.9795\n",
            "Epoch 66/75\n",
            "72/72 [==============================] - 4s 61ms/step - loss: 365.2958 - accuracy: 0.9837 - val_loss: 363.8086 - val_accuracy: 0.9792\n",
            "Epoch 67/75\n",
            "72/72 [==============================] - 4s 61ms/step - loss: 365.2929 - accuracy: 0.9838 - val_loss: 363.8075 - val_accuracy: 0.9799\n",
            "Epoch 68/75\n",
            "72/72 [==============================] - 4s 61ms/step - loss: 365.2873 - accuracy: 0.9839 - val_loss: 363.7908 - val_accuracy: 0.9805\n",
            "Epoch 69/75\n",
            "72/72 [==============================] - 4s 61ms/step - loss: 365.2886 - accuracy: 0.9838 - val_loss: 363.7883 - val_accuracy: 0.9810\n",
            "Epoch 70/75\n",
            "72/72 [==============================] - 4s 61ms/step - loss: 365.2857 - accuracy: 0.9842 - val_loss: 363.7838 - val_accuracy: 0.9810\n",
            "Epoch 71/75\n",
            "72/72 [==============================] - 4s 61ms/step - loss: 365.2867 - accuracy: 0.9841 - val_loss: 363.7953 - val_accuracy: 0.9811\n",
            "Epoch 72/75\n",
            "72/72 [==============================] - 4s 61ms/step - loss: 365.2848 - accuracy: 0.9843 - val_loss: 363.8753 - val_accuracy: 0.9803\n",
            "Epoch 73/75\n",
            "72/72 [==============================] - 4s 61ms/step - loss: 365.2803 - accuracy: 0.9845 - val_loss: 363.9231 - val_accuracy: 0.9791\n",
            "Epoch 74/75\n",
            "72/72 [==============================] - 4s 61ms/step - loss: 365.2860 - accuracy: 0.9842 - val_loss: 363.8643 - val_accuracy: 0.9797\n",
            "Epoch 75/75\n",
            "72/72 [==============================] - 4s 61ms/step - loss: 365.2971 - accuracy: 0.9842 - val_loss: 363.8659 - val_accuracy: 0.9802\n"
          ]
        }
      ]
    },
    {
      "cell_type": "code",
      "source": [
        "model.save('/content/drive/MyDrive/UCD_Research/model1_75epochs.hdf5')"
      ],
      "metadata": {
        "id": "6atwJBJb39ou"
      },
      "execution_count": null,
      "outputs": []
    },
    {
      "cell_type": "code",
      "source": [
        "loss = history.history['loss']\n",
        "val_loss = history.history['val_loss']\n",
        "epochs = range(1, len(loss) + 1)\n",
        "plt.plot(epochs, loss, 'y', label='Training loss')\n",
        "plt.plot(epochs, val_loss, 'r', label='Validation loss')\n",
        "plt.title('Training and validation loss')\n",
        "plt.xlabel('Epochs')\n",
        "plt.ylabel('Loss')\n",
        "plt.legend()\n",
        "plt.show()\n",
        "\n",
        "acc = history.history['accuracy']\n",
        "val_acc = history.history['val_accuracy']\n",
        "plt.plot(epochs, acc, 'y', label='Training acc')\n",
        "plt.plot(epochs, val_acc, 'r', label='Validation acc')\n",
        "plt.title('Training and validation accuracy')\n",
        "plt.xlabel('Epochs')\n",
        "plt.ylabel('Accuracy')\n",
        "plt.legend()\n",
        "plt.show()"
      ],
      "metadata": {
        "colab": {
          "base_uri": "https://localhost:8080/",
          "height": 573
        },
        "id": "oDh63TwF4Aph",
        "outputId": "b1b7c7a4-e851-41c4-b58e-8cfd868c561d"
      },
      "execution_count": null,
      "outputs": [
        {
          "output_type": "display_data",
          "data": {
            "text/plain": [
              "<Figure size 432x288 with 1 Axes>"
            ],
            "image/png": "[encoded data removed]"
          },
          "metadata": {
            "needs_background": "light"
          }
        },
        {
          "output_type": "display_data",
          "data": {
            "text/plain": [
              "<Figure size 432x288 with 1 Axes>"
            ],
            "image/png": "[encoded data removed]"
          },
          "metadata": {
            "needs_background": "light"
          }
        }
      ]
    },
    {
      "cell_type": "code",
      "source": [
        "model = sm.Unet(BACKBONE, encoder_weights='imagenet')\n",
        "model.compile('Adam', loss=sm.losses.bce_jaccard_loss, metrics=[sm.metrics.iou_score])\n",
        "print(model.summary())"
      ],
      "metadata": {
        "id": "N3x9HzzKxh3m"
      },
      "execution_count": null,
      "outputs": []
    },
    {
      "cell_type": "code",
      "source": [
        "history = model.fit(img_arr_pro, validation_data=, steps_per_epoch=50, validation_steps=50, epochs=50)\n"
      ],
      "metadata": {
        "id": "DUDen62Ixlfi"
      },
      "execution_count": null,
      "outputs": []
    }
  ]
}