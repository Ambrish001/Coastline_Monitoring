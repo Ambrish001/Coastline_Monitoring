{
  "cells": [
    {
      "cell_type": "markdown",
      "metadata": {
        "id": "view-in-github",
        "colab_type": "text"
      },
      "source": [
        "<a href=\"https://colab.research.google.com/github/Ambrish001/Coastline_Monitoring/blob/main/Land_Cover_Classification.ipynb\" target=\"_parent\"><img src=\"https://colab.research.google.com/assets/colab-badge.svg\" alt=\"Open In Colab\"/></a>"
      ]
    },
    {
      "cell_type": "code",
      "execution_count": null,
      "metadata": {
        "id": "O73neOhvwz7-"
      },
      "outputs": [],
      "source": [
        "import cv2\n",
        "import os\n",
        "import imutils\n",
        "from google.colab.patches import cv2_imshow\n",
        "import numpy as np\n",
        "import pandas as pd\n",
        "from matplotlib import pyplot as plt\n",
        "import glob\n",
        "from tensorflow.keras.preprocessing import image\n",
        "from skimage.metrics import hausdorff_distance as hdf\n",
        "from skimage.metrics import structural_similarity as ssim"
      ]
    },
    {
      "cell_type": "code",
      "source": [
        "!pip install sewar\n",
        "from sewar.full_ref import rmse, psnr, uqi, ergas, scc, rase, sam, vifp"
      ],
      "metadata": {
        "colab": {
          "base_uri": "https://localhost:8080/"
        },
        "id": "h0j4XLUqEv9h",
        "outputId": "1018b908-bdc1-4327-eeb0-f9854c34e95c"
      },
      "execution_count": null,
      "outputs": [
        {
          "output_type": "stream",
          "name": "stdout",
          "text": [
            "Looking in indexes: https://pypi.org/simple, https://us-python.pkg.dev/colab-wheels/public/simple/\n",
            "Collecting sewar\n",
            "  Downloading sewar-0.4.5.tar.gz (11 kB)\n",
            "Requirement already satisfied: numpy in /usr/local/lib/python3.7/dist-packages (from sewar) (1.21.6)\n",
            "Requirement already satisfied: scipy in /usr/local/lib/python3.7/dist-packages (from sewar) (1.4.1)\n",
            "Requirement already satisfied: Pillow in /usr/local/lib/python3.7/dist-packages (from sewar) (7.1.2)\n",
            "Building wheels for collected packages: sewar\n",
            "  Building wheel for sewar (setup.py) ... \u001b[?25l\u001b[?25hdone\n",
            "  Created wheel for sewar: filename=sewar-0.4.5-py3-none-any.whl size=10608 sha256=45e8b09b1d14598cc591a4f885a50b1b1e6f88aef7c59cde66e4892ce02a9b77\n",
            "  Stored in directory: /root/.cache/pip/wheels/7a/38/6b/d066cfcb2b1c1c9b059b9ce1bdc4803b469359214e8dad4e3e\n",
            "Successfully built sewar\n",
            "Installing collected packages: sewar\n",
            "Successfully installed sewar-0.4.5\n"
          ]
        }
      ]
    },
    {
      "cell_type": "code",
      "execution_count": null,
      "metadata": {
        "colab": {
          "base_uri": "https://localhost:8080/"
        },
        "id": "Yn_WUB6NRVRd",
        "outputId": "f95622df-b5e9-4cff-f85f-072a97663675"
      },
      "outputs": [
        {
          "output_type": "stream",
          "name": "stdout",
          "text": [
            "Mounted at /content/drive\n"
          ]
        }
      ],
      "source": [
        "from google.colab import drive\n",
        "drive.mount('/content/drive')"
      ]
    },
    {
      "cell_type": "code",
      "execution_count": null,
      "metadata": {
        "id": "jIR9kQuh93H0"
      },
      "outputs": [],
      "source": [
        "def image_resize(image, width = None, height = None, inter = cv2.INTER_AREA):\n",
        "    # initialize the dimensions of the image to be resized and\n",
        "    # grab the image size\n",
        "    dim = None\n",
        "    (h, w) = image.shape[:2]\n",
        "\n",
        "    # if both the width and height are None, then return the\n",
        "    # original image\n",
        "    if width is None and height is None:\n",
        "        return image\n",
        "\n",
        "    # check to see if the width is None\n",
        "    if width is None:\n",
        "        # calculate the ratio of the height and construct the\n",
        "        # dimensions\n",
        "        r = height / float(h)\n",
        "        dim = (int(w * r), height)\n",
        "\n",
        "    # otherwise, the height is None\n",
        "    else:\n",
        "        # calculate the ratio of the width and construct the\n",
        "        # dimensions\n",
        "        r = width / float(w)\n",
        "        dim = (width, int(h * r))\n",
        "\n",
        "    # resize the image\n",
        "    resized = cv2.resize(image, dim , interpolation = inter)\n",
        "\n",
        "    # return the resized image\n",
        "    return resized\n",
        "\n",
        "def remove_black_borders(image):\n",
        "    y_nonzero, x_nonzero, _ = np.nonzero(image)\n",
        "    return image[np.min(y_nonzero):np.max(y_nonzero), np.min(x_nonzero):np.max(x_nonzero)]    "
      ]
    },
    {
      "cell_type": "code",
      "execution_count": null,
      "metadata": {
        "id": "5BpZFeXviM8i"
      },
      "outputs": [],
      "source": [
        "\"\"\"\n",
        "path = glob.glob(\"/content/drive/MyDrive/UCD_Research/LANDSAT_8_2013_2022_B5/*.TIF\")\n",
        "i=1\n",
        "for file in path:\n",
        "  img = cv2.imread(file)\n",
        "  s = file.split(\"_\")\n",
        "  name = \"/content/drive/MyDrive/UCD_Research/\"+s[8]+\".TIF\"\n",
        "  imgb = imutils.rotate(img,angle=14.3)\n",
        "  imgc = remove_black_borders(imgb)\n",
        "  imgd = cv2.resize(imgc,(1080,1920),interpolation = cv2.INTER_CUBIC)\n",
        "  #imge = cv2.imwrite(name,imgd)\n",
        "  #print(\"File Number Done : \",i)\n",
        "  i+=1\n",
        "\"\"\"\n",
        "#a = imgc\n",
        "#b = cv2.imwrite(\"/content/drive/MyDrive/UCD_Research/a.TIF\",a)\n",
        "\n",
        "# 11.8 degree clockwise rotation for LANDSAT 5 and 7\n",
        "# 14.3 degree clockwise rotation for LANDSAT 8\n",
        "# Writing Images to Google Drive is done\n",
        "# Cropping the extra black space around image is done\n",
        "\n",
        "# Image Preprocessing is done"
      ]
    },
    {
      "cell_type": "code",
      "execution_count": null,
      "metadata": {
        "id": "mUbbQdtRirA2"
      },
      "outputs": [],
      "source": [
        "\"\"\"\n",
        "otsu_threshold, image_result = cv2.threshold(imgc, 0, 255, cv2.THRESH_BINARY + cv2.THRESH_OTSU)\n",
        "print(\"Obtained threshold: \", otsu_threshold)\n",
        "\n",
        "\n",
        "# Process - 1 : Convert to Grayscale\n",
        "imgc[imgc>61] = 255\n",
        "imgc[imgc<=61] = 0\n",
        "cv2_imshow(imgc)\n",
        "\n",
        "\n",
        "# Process - 2: Closing\n",
        "kernel = np.ones((5, 5), np.uint8)\n",
        "imgc = cv2.morphologyEx(imgc, cv2.MORPH_CLOSE, kernel)\n",
        "print(\"Closing\")\n",
        "cv2_imshow(imgc)\n",
        "\n",
        "\n",
        "# Process - 3 Gradient\n",
        "#kernel = np.ones((30, 30), np.uint8)\n",
        "grad = cv2.morphologyEx(imgc, cv2.MORPH_GRADIENT, kernel)\n",
        "print(\"Gradient\")\n",
        "cv2_imshow(grad)\n",
        "\n",
        "# Process - 4 Black Hat\n",
        "#kernel = np.ones((30, 30), np.uint8)\n",
        "bhat = cv2.morphologyEx(imgc, cv2.MORPH_BLACKHAT, kernel)\n",
        "print(\"Black Hat\")\n",
        "cv2_imshow(bhat)\n",
        "\n",
        "# Process - 5 Top Hat\n",
        "#kernel = np.ones((30, 30), np.uint8)\n",
        "that = cv2.morphologyEx(imgc, cv2.MORPH_TOPHAT, kernel)\n",
        "print(\"Top Hat\")\n",
        "cv2_imshow(that)\n",
        "\n",
        "# Process - 6 Opening\n",
        "#kernel = np.ones((30, 30), np.uint8)\n",
        "open = cv2.morphologyEx(imgc, cv2.MORPH_TOPHAT, kernel)\n",
        "print(\"Opening\")\n",
        "cv2_imshow(open)\n",
        "\n",
        "# Process - 7 Erosion\n",
        "#kernel = np.ones((30, 30), np.uint8)\n",
        "ero = cv2.morphologyEx(imgc, cv2.MORPH_TOPHAT, kernel)\n",
        "print(\"Erosion\")\n",
        "cv2_imshow(ero)\n",
        "\n",
        "# Process - 8 Dilation\n",
        "#kernel = np.ones((30, 30), np.uint8)\n",
        "dil = cv2.morphologyEx(imgc, cv2.MORPH_TOPHAT, kernel)\n",
        "print(\"Dilation\")\n",
        "cv2_imshow(dil)\n",
        "\n",
        "\n",
        "# Process - 9 Canny\n",
        "\n",
        "can_clo = cv2.Canny(imgc,threshold1 = 100, threshold2 = 200)\n",
        "cv2_imshow(can_clo)\n",
        "\n",
        "# Process - 10 Sobel\n",
        "\n",
        "sob_x_clo = cv2.Sobel( imgc, cv2.CV_8U, 1,0, ksize = 5)\n",
        "sob_y_clo = cv2.Sobel(imgc, cv2.CV_8U, 0,1, ksize = 5)\n",
        "sob_clo = sob_x_clo + sob_y_clo\n",
        "cv2_imshow(sob_clo)\n",
        "\n",
        "# Process - 11 Scharr\n",
        "\n",
        "schx_clo = cv2.Scharr(imgc, cv2.CV_8U,1,0)\n",
        "schy_clo = cv2.Scharr(imgc, cv2.CV_8U,0,1)\n",
        "sch_clo = schx_clo+schy_clo\n",
        "cv2_imshow(sch_clo)\n",
        "\n",
        "# Process - 12 Prewitt\n",
        "\n",
        "kx = np.array([[1,1,1],[0,0,0],[-1,-1,-1]])\n",
        "ky = np.array([[-1,0,1],[-1,0,1],[-1,0,1]])\n",
        "img_prewittx = cv2.filter2D(imgc, -1, kx)\n",
        "img_prewitty = cv2.filter2D(imgc, -1, ky)\n",
        "pre_clo = img_prewittx + img_prewitty\n",
        "cv2_imshow(pre_clo)\n",
        "\n",
        "\n",
        "\n",
        "cv2_imshow(imga)\n",
        "edges = cv2.Canny(imga,threshold1 = 50, threshold2 = 300)\n",
        "cv2_imshow(edges)\n",
        "\n",
        "img = cv2.imread(\"/content/L1C_T29UPV_A002408_20151208T114454.tif\")\n",
        "imga = cv2.resize(img,(1080,1920))\n",
        "stdimg = cv2.cvtColor(imga, cv2.COLOR_BGR2GRAY)\n",
        "cv2_imshow(stdimg)\n",
        "edge = cv2.Canny(stdimg,threshold1 = 100, threshold2 = 200)\n",
        "cv2_imshow(edge)\n",
        "\n",
        "IMPORTANT :\n",
        "Before processing the images, resize each image to uniform size. After resizing \n",
        "the image, rotate the image by 13.2 degrees to straighten up the image. Then crop\n",
        "it into vertical sections (if required) and perform the edge detection or semantic\n",
        "segmentation whichever seems more viable. \n",
        "\"\"\""
      ]
    },
    {
      "cell_type": "code",
      "execution_count": null,
      "metadata": {
        "id": "aOeMbIo0SKND"
      },
      "outputs": [],
      "source": [
        "# Code for applying all the detectors\n",
        "'''\n",
        "path = glob.glob(\"/content/drive/MyDrive/UCD_Research/Data_LANDSAT_8/*.TIF\")\n",
        "i=1\n",
        "\n",
        "for file in path:\n",
        "  img = cv2.imread(file)\n",
        "  s = file.split(\"_\")\n",
        "  name = \"/content/drive/MyDrive/UCD_Research/Edge_LANDSAT_8/Prewitt_Edge_\"+s[3][2:10]+\".TIF\"\n",
        "  print(name)\n",
        "  \n",
        "  img = cv2.cvtColor(img,cv2.COLOR_BGR2GRAY)\n",
        "  otsu_threshold, image_result = cv2.threshold(img, 0, 255, cv2.THRESH_BINARY + cv2.THRESH_OTSU)\n",
        "  kernel = np.ones((10, 10), np.uint8)\n",
        "\n",
        "  print(\"File Number Done : \",i)\n",
        "  img[img>otsu_threshold-10] = 255\n",
        "  img[img<=otsu_threshold-10] = 0\n",
        "  \n",
        "  img = cv2.morphologyEx(img, cv2.MORPH_CLOSE, kernel)\n",
        "  kx = np.array([[1,1,1],[0,0,0],[-1,-1,-1]]) \n",
        "  ky = np.array([[-1,0,1],[-1,0,1],[-1,0,1]])\n",
        "  img_prewittx = cv2.filter2D(img, -1, kx)\n",
        "  img_prewitty = cv2.filter2D(img, -1, ky)\n",
        "  imgb = img_prewittx + img_prewitty\n",
        "  \n",
        "  imga = cv2.imwrite(name,imgb)\n",
        "  i+=1\n",
        "'''  "
      ]
    },
    {
      "cell_type": "code",
      "source": [
        "#https://stackoverflow.com/questions/24768222/how-to-detect-a-shift-between-images\n",
        "#https://itom.bitbucket.io/latest/docs/12_tutorials/lateralShift.html\n",
        "#Cross Correlation in scikit learn\n",
        "#https://dsp.stackexchange.com/questions/38065/peak-signal-to-noise-ratio-psnr-in-python-for-an-image\n",
        "#https://ourcodeworld.com/articles/read/991/how-to-calculate-the-structural-similarity-index-ssim-between-two-images-with-python#:~:text=Learn%20how%20to%20determine%20the,by%20losses%20in%20data%20transmission.\n",
        "# Now refer this for image differencing"
      ],
      "metadata": {
        "id": "CKTrmf2FCqlp"
      },
      "execution_count": null,
      "outputs": []
    },
    {
      "cell_type": "code",
      "source": [
        "# Code for finding the shift between two images\n",
        "\"\"\"\n",
        "path = glob.glob(\"/content/drive/MyDrive/UCD_Research/Edge_LANDSAT_8/*.TIF\")\n",
        "for file in path:\n",
        "  s = file.split(\"/\")\n",
        "  date_name = s[6][-12:-4]\n",
        "  map_name = s[6][:-13]\n",
        "  new_name = s[0]+\"/\"+s[1]+\"/\"+s[2]+\"/\"+s[3]+\"/\"+s[4]+\"/\"+s[5]+\"/\"+date_name+\"_\"+map_name+\".TIF\"\n",
        "  print(new_name)\n",
        "  os.rename(file,new_name)\n",
        "  #img = cv2.imread(file)\n",
        "\"\"\"\n",
        "\n",
        "#ind = ['Reference_Image', 'Canny_Image', 'Sobel_Image', 'Scharr_Image', 'Prewitt_Image']\n",
        "ind = []\n",
        "col = ['RMSE', 'PSNR', 'UQI', 'SSIM', 'ERGAS', 'SCC', 'SAM', 'VIFP','HDF']\n",
        "data=[]\n",
        "i=0\n",
        "path = sorted(glob.glob(\"/content/drive/MyDrive/UCD_Research/Edge_LANDSAT_8/*.TIF\"))\n",
        "for file in path:\n",
        "  s = file.split(\"/\")\n",
        "  pref = s[0]+\"/\"+s[1]+\"/\"+s[2]+\"/\"+s[3]+\"/\"+s[4]+\"/\"+s[5]+\"/\"\n",
        "  if s[6][9] == \"R\":\n",
        "    ref = cv2.imread(file)\n",
        "    date_name = s[6][:8]\n",
        "    can_name = pref+date_name+\"_Edge.TIF\"\n",
        "    sob_name = pref+date_name+\"_Sobel_Edge.TIF\"\n",
        "    sch_name = pref+date_name+\"_Scharr_Edge.TIF\"\n",
        "    pre_name = pref+date_name+\"_Prewitt_Edge.TIF\"\n",
        "    \n",
        "    can = cv2.imread(can_name)\n",
        "    sob = cv2.imread(sob_name)\n",
        "    sch = cv2.imread(sch_name)\n",
        "    pre = cv2.imread(pre_name)\n",
        "\n",
        "    rmse_can = rmse(ref,can)\n",
        "    rmse_sob = rmse(ref,sob)\n",
        "    rmse_sch = rmse(ref,sch)\n",
        "    rmse_pre = rmse(ref,pre)\n",
        "    rmse_ref = rmse(ref,ref)\n",
        "\n",
        "    psnr_can = psnr(ref,can)\n",
        "    psnr_sob = psnr(ref,sob)\n",
        "    psnr_sch = psnr(ref,sch)\n",
        "    psnr_pre = psnr(ref,pre)\n",
        "    psnr_ref = psnr(ref,ref)\n",
        "\n",
        "    uqi_can = uqi(ref,can)\n",
        "    uqi_sob = uqi(ref,sob)\n",
        "    uqi_sch = uqi(ref,sch)\n",
        "    uqi_pre = uqi(ref,pre)\n",
        "    uqi_ref = uqi(ref,ref)\n",
        "\n",
        "    ssim_can = ssim(ref,can,multichannel=True)\n",
        "    ssim_sob = ssim(ref,sob,multichannel=True)\n",
        "    ssim_sch = ssim(ref,sch,multichannel=True)\n",
        "    ssim_pre = ssim(ref,pre,multichannel=True)\n",
        "    ssim_ref = ssim(ref,ref,multichannel=True)\n",
        "\n",
        "    ergas_can = ergas(ref,can)\n",
        "    ergas_sob = ergas(ref,sob)\n",
        "    ergas_sch = ergas(ref,sch)\n",
        "    ergas_pre = ergas(ref,pre)\n",
        "    ergas_ref = ergas(ref,ref)\n",
        "\n",
        "    scc_can = scc(ref,can)\n",
        "    scc_sob = scc(ref,sob)\n",
        "    scc_sch = scc(ref,sch)\n",
        "    scc_pre = scc(ref,pre)\n",
        "    scc_ref = scc(ref,ref)\n",
        "\n",
        "    sam_can = sam(ref,can)\n",
        "    sam_sob = sam(ref,sob)\n",
        "    sam_sch = sam(ref,sch)\n",
        "    sam_pre = sam(ref,pre)\n",
        "    sam_ref = sam(ref,ref)\n",
        "\n",
        "    vifp_can = vifp(ref,can)\n",
        "    vifp_sob = vifp(ref,sob)\n",
        "    vifp_sch = vifp(ref,sch)\n",
        "    vifp_pre = vifp(ref,pre)\n",
        "    vifp_ref = vifp(ref,ref)\n",
        "\n",
        "    \"\"\"\n",
        "    msssim_can = msssim(ref,can)\n",
        "    msssim_sob = msssim(ref,sob)\n",
        "    msssim_sch = msssim(ref,sch)\n",
        "    msssim_pre = msssim(ref,pre)\n",
        "    msssim_ref = msssim(ref,ref)\n",
        "    \"\"\"\n",
        "    hdf_can = hdf(ref,can)\n",
        "    hdf_sob = hdf(ref,ref)\n",
        "    hdf_sch = hdf(ref,sch)\n",
        "    hdf_pre = hdf(ref,pre)\n",
        "    hdf_ref = hdf(ref,ref)\n",
        "\n",
        "    row_a = [rmse_ref,psnr_ref,uqi_ref,ssim_ref,ergas_ref,scc_ref,sam_ref,vifp_ref,hdf_ref]\n",
        "    row_b = [rmse_can,psnr_can,uqi_can,ssim_can,ergas_can,scc_can,sam_can,vifp_can,hdf_can]\n",
        "    row_c = [rmse_sob,psnr_sob,uqi_sob,ssim_sob,ergas_sob,scc_sob,sam_sob,vifp_sob,hdf_sob]\n",
        "    row_d = [rmse_sch,psnr_sch,uqi_sch,ssim_sch,ergas_sch,scc_sch,sam_sch,vifp_sch,hdf_sch]\n",
        "    row_e = [rmse_pre,psnr_pre,uqi_pre,ssim_pre,ergas_pre,scc_pre,sam_pre,vifp_pre,hdf_pre]\n",
        "    sp = [\" \",\" \",\" \",\" \",\" \",\" \",\" \",\" \",\" \"]\n",
        "\n",
        "    ref_name = 'Reference - ' + date_name\n",
        "    ind.append([ref_name, 'Canny_Image', 'Sobel_Image', 'Scharr_Image', 'Prewitt_Image','_'])\n",
        "    data.append(row_a)\n",
        "    data.append(row_b)\n",
        "    data.append(row_c)\n",
        "    data.append(row_d)\n",
        "    data.append(row_e)\n",
        "    data.append(sp)\n",
        "    i+=1\n",
        "    print(\"Date done: \",date_name)\n",
        "    \n",
        "from itertools import chain\n",
        "flat_ind = list(chain.from_iterable(ind))\n",
        "df1 = pd.DataFrame(data,index=flat_ind,columns=col)\n",
        "df1.to_excel(\"/content/drive/MyDrive/UCD_Research/LANDSAT_8_Edge_Metric.xlsx\")\n",
        "\n"
      ],
      "metadata": {
        "colab": {
          "base_uri": "https://localhost:8080/",
          "height": 380
        },
        "id": "EqD5wg6_tCPK",
        "outputId": "c2aef2bc-d273-45a8-e10c-0eb1a6f6bc6c"
      },
      "execution_count": null,
      "outputs": [
        {
          "output_type": "error",
          "ename": "KeyboardInterrupt",
          "evalue": "ignored",
          "traceback": [
            "\u001b[0;31m---------------------------------------------------------------------------\u001b[0m",
            "\u001b[0;31mKeyboardInterrupt\u001b[0m                         Traceback (most recent call last)",
            "\u001b[0;32m<ipython-input-6-8d14642b66f1>\u001b[0m in \u001b[0;36m<module>\u001b[0;34m()\u001b[0m\n\u001b[1;32m     64\u001b[0m     \u001b[0mergas_ref\u001b[0m \u001b[0;34m=\u001b[0m \u001b[0mergas\u001b[0m\u001b[0;34m(\u001b[0m\u001b[0mref\u001b[0m\u001b[0;34m,\u001b[0m\u001b[0mref\u001b[0m\u001b[0;34m)\u001b[0m\u001b[0;34m\u001b[0m\u001b[0;34m\u001b[0m\u001b[0m\n\u001b[1;32m     65\u001b[0m \u001b[0;34m\u001b[0m\u001b[0m\n\u001b[0;32m---> 66\u001b[0;31m     \u001b[0mscc_can\u001b[0m \u001b[0;34m=\u001b[0m \u001b[0mscc\u001b[0m\u001b[0;34m(\u001b[0m\u001b[0mref\u001b[0m\u001b[0;34m,\u001b[0m\u001b[0mcan\u001b[0m\u001b[0;34m)\u001b[0m\u001b[0;34m\u001b[0m\u001b[0;34m\u001b[0m\u001b[0m\n\u001b[0m\u001b[1;32m     67\u001b[0m     \u001b[0mscc_sob\u001b[0m \u001b[0;34m=\u001b[0m \u001b[0mscc\u001b[0m\u001b[0;34m(\u001b[0m\u001b[0mref\u001b[0m\u001b[0;34m,\u001b[0m\u001b[0msob\u001b[0m\u001b[0;34m)\u001b[0m\u001b[0;34m\u001b[0m\u001b[0;34m\u001b[0m\u001b[0m\n\u001b[1;32m     68\u001b[0m     \u001b[0mscc_sch\u001b[0m \u001b[0;34m=\u001b[0m \u001b[0mscc\u001b[0m\u001b[0;34m(\u001b[0m\u001b[0mref\u001b[0m\u001b[0;34m,\u001b[0m\u001b[0msch\u001b[0m\u001b[0;34m)\u001b[0m\u001b[0;34m\u001b[0m\u001b[0;34m\u001b[0m\u001b[0m\n",
            "\u001b[0;32m/usr/local/lib/python3.7/dist-packages/sewar/full_ref.py\u001b[0m in \u001b[0;36mscc\u001b[0;34m(GT, P, win, ws)\u001b[0m\n\u001b[1;32m    224\u001b[0m         \u001b[0mcoefs\u001b[0m \u001b[0;34m=\u001b[0m \u001b[0mnp\u001b[0m\u001b[0;34m.\u001b[0m\u001b[0mzeros\u001b[0m\u001b[0;34m(\u001b[0m\u001b[0mGT\u001b[0m\u001b[0;34m.\u001b[0m\u001b[0mshape\u001b[0m\u001b[0;34m)\u001b[0m\u001b[0;34m\u001b[0m\u001b[0;34m\u001b[0m\u001b[0m\n\u001b[1;32m    225\u001b[0m         \u001b[0;32mfor\u001b[0m \u001b[0mi\u001b[0m \u001b[0;32min\u001b[0m \u001b[0mrange\u001b[0m\u001b[0;34m(\u001b[0m\u001b[0mGT\u001b[0m\u001b[0;34m.\u001b[0m\u001b[0mshape\u001b[0m\u001b[0;34m[\u001b[0m\u001b[0;36m2\u001b[0m\u001b[0;34m]\u001b[0m\u001b[0;34m)\u001b[0m\u001b[0;34m:\u001b[0m\u001b[0;34m\u001b[0m\u001b[0;34m\u001b[0m\u001b[0m\n\u001b[0;32m--> 226\u001b[0;31m                 \u001b[0mcoefs\u001b[0m\u001b[0;34m[\u001b[0m\u001b[0;34m:\u001b[0m\u001b[0;34m,\u001b[0m\u001b[0;34m:\u001b[0m\u001b[0;34m,\u001b[0m\u001b[0mi\u001b[0m\u001b[0;34m]\u001b[0m \u001b[0;34m=\u001b[0m \u001b[0m_scc_single\u001b[0m\u001b[0;34m(\u001b[0m\u001b[0mGT\u001b[0m\u001b[0;34m[\u001b[0m\u001b[0;34m:\u001b[0m\u001b[0;34m,\u001b[0m\u001b[0;34m:\u001b[0m\u001b[0;34m,\u001b[0m\u001b[0mi\u001b[0m\u001b[0;34m]\u001b[0m\u001b[0;34m,\u001b[0m\u001b[0mP\u001b[0m\u001b[0;34m[\u001b[0m\u001b[0;34m:\u001b[0m\u001b[0;34m,\u001b[0m\u001b[0;34m:\u001b[0m\u001b[0;34m,\u001b[0m\u001b[0mi\u001b[0m\u001b[0;34m]\u001b[0m\u001b[0;34m,\u001b[0m\u001b[0mwin\u001b[0m\u001b[0;34m,\u001b[0m\u001b[0mws\u001b[0m\u001b[0;34m)\u001b[0m\u001b[0;34m\u001b[0m\u001b[0;34m\u001b[0m\u001b[0m\n\u001b[0m\u001b[1;32m    227\u001b[0m         \u001b[0;32mreturn\u001b[0m \u001b[0mnp\u001b[0m\u001b[0;34m.\u001b[0m\u001b[0mmean\u001b[0m\u001b[0;34m(\u001b[0m\u001b[0mcoefs\u001b[0m\u001b[0;34m)\u001b[0m\u001b[0;34m\u001b[0m\u001b[0;34m\u001b[0m\u001b[0m\n\u001b[1;32m    228\u001b[0m \u001b[0;34m\u001b[0m\u001b[0m\n",
            "\u001b[0;32m/usr/local/lib/python3.7/dist-packages/sewar/full_ref.py\u001b[0m in \u001b[0;36m_scc_single\u001b[0;34m(GT, P, win, ws)\u001b[0m\n\u001b[1;32m    198\u001b[0m         \u001b[0mP_hp\u001b[0m \u001b[0;34m=\u001b[0m \u001b[0mgeneric_laplace\u001b[0m\u001b[0;34m(\u001b[0m\u001b[0mP\u001b[0m\u001b[0;34m.\u001b[0m\u001b[0mastype\u001b[0m\u001b[0;34m(\u001b[0m\u001b[0mnp\u001b[0m\u001b[0;34m.\u001b[0m\u001b[0mfloat64\u001b[0m\u001b[0;34m)\u001b[0m\u001b[0;34m,\u001b[0m \u001b[0m_scc_filter\u001b[0m\u001b[0;34m)\u001b[0m\u001b[0;34m\u001b[0m\u001b[0;34m\u001b[0m\u001b[0m\n\u001b[1;32m    199\u001b[0m         \u001b[0mwin\u001b[0m \u001b[0;34m=\u001b[0m \u001b[0mfspecial\u001b[0m\u001b[0;34m(\u001b[0m\u001b[0mFilter\u001b[0m\u001b[0;34m.\u001b[0m\u001b[0mUNIFORM\u001b[0m\u001b[0;34m,\u001b[0m\u001b[0mws\u001b[0m\u001b[0;34m)\u001b[0m\u001b[0;34m\u001b[0m\u001b[0;34m\u001b[0m\u001b[0m\n\u001b[0;32m--> 200\u001b[0;31m         \u001b[0msigmaGT_sq\u001b[0m\u001b[0;34m,\u001b[0m\u001b[0msigmaP_sq\u001b[0m\u001b[0;34m,\u001b[0m\u001b[0msigmaGT_P\u001b[0m \u001b[0;34m=\u001b[0m \u001b[0m_get_sigmas\u001b[0m\u001b[0;34m(\u001b[0m\u001b[0mGT_hp\u001b[0m\u001b[0;34m,\u001b[0m\u001b[0mP_hp\u001b[0m\u001b[0;34m,\u001b[0m\u001b[0mwin\u001b[0m\u001b[0;34m)\u001b[0m\u001b[0;34m\u001b[0m\u001b[0;34m\u001b[0m\u001b[0m\n\u001b[0m\u001b[1;32m    201\u001b[0m \u001b[0;34m\u001b[0m\u001b[0m\n\u001b[1;32m    202\u001b[0m         \u001b[0msigmaGT_sq\u001b[0m\u001b[0;34m[\u001b[0m\u001b[0msigmaGT_sq\u001b[0m\u001b[0;34m<\u001b[0m\u001b[0;36m0\u001b[0m\u001b[0;34m]\u001b[0m \u001b[0;34m=\u001b[0m \u001b[0;36m0\u001b[0m\u001b[0;34m\u001b[0m\u001b[0;34m\u001b[0m\u001b[0m\n",
            "\u001b[0;32m/usr/local/lib/python3.7/dist-packages/sewar/utils.py\u001b[0m in \u001b[0;36m_get_sigmas\u001b[0;34m(GT, P, win, mode, **kwargs)\u001b[0m\n\u001b[1;32m     40\u001b[0m \u001b[0;34m\u001b[0m\u001b[0m\n\u001b[1;32m     41\u001b[0m         \u001b[0;32mreturn\u001b[0m \u001b[0mfilter2\u001b[0m\u001b[0;34m(\u001b[0m\u001b[0mGT\u001b[0m\u001b[0;34m*\u001b[0m\u001b[0mGT\u001b[0m\u001b[0;34m,\u001b[0m\u001b[0mwin\u001b[0m\u001b[0;34m,\u001b[0m\u001b[0mmode\u001b[0m\u001b[0;34m)\u001b[0m  \u001b[0;34m-\u001b[0m \u001b[0mGT_sum_sq\u001b[0m\u001b[0;34m,\u001b[0m\u001b[0;31m\\\u001b[0m\u001b[0;34m\u001b[0m\u001b[0;34m\u001b[0m\u001b[0m\n\u001b[0;32m---> 42\u001b[0;31m                         \u001b[0mfilter2\u001b[0m\u001b[0;34m(\u001b[0m\u001b[0mP\u001b[0m\u001b[0;34m*\u001b[0m\u001b[0mP\u001b[0m\u001b[0;34m,\u001b[0m\u001b[0mwin\u001b[0m\u001b[0;34m,\u001b[0m\u001b[0mmode\u001b[0m\u001b[0;34m)\u001b[0m  \u001b[0;34m-\u001b[0m \u001b[0mP_sum_sq\u001b[0m\u001b[0;34m,\u001b[0m\u001b[0;31m \u001b[0m\u001b[0;31m\\\u001b[0m\u001b[0;34m\u001b[0m\u001b[0;34m\u001b[0m\u001b[0m\n\u001b[0m\u001b[1;32m     43\u001b[0m                         \u001b[0mfilter2\u001b[0m\u001b[0;34m(\u001b[0m\u001b[0mGT\u001b[0m\u001b[0;34m*\u001b[0m\u001b[0mP\u001b[0m\u001b[0;34m,\u001b[0m\u001b[0mwin\u001b[0m\u001b[0;34m,\u001b[0m\u001b[0mmode\u001b[0m\u001b[0;34m)\u001b[0m \u001b[0;34m-\u001b[0m \u001b[0mGT_P_sum_mul\u001b[0m\u001b[0;34m\u001b[0m\u001b[0;34m\u001b[0m\u001b[0m\n\u001b[1;32m     44\u001b[0m \u001b[0;34m\u001b[0m\u001b[0m\n",
            "\u001b[0;32m/usr/local/lib/python3.7/dist-packages/sewar/utils.py\u001b[0m in \u001b[0;36mfilter2\u001b[0;34m(img, fltr, mode)\u001b[0m\n\u001b[1;32m     58\u001b[0m \u001b[0;34m\u001b[0m\u001b[0m\n\u001b[1;32m     59\u001b[0m \u001b[0;32mdef\u001b[0m \u001b[0mfilter2\u001b[0m\u001b[0;34m(\u001b[0m\u001b[0mimg\u001b[0m\u001b[0;34m,\u001b[0m\u001b[0mfltr\u001b[0m\u001b[0;34m,\u001b[0m\u001b[0mmode\u001b[0m\u001b[0;34m=\u001b[0m\u001b[0;34m'same'\u001b[0m\u001b[0;34m)\u001b[0m\u001b[0;34m:\u001b[0m\u001b[0;34m\u001b[0m\u001b[0;34m\u001b[0m\u001b[0m\n\u001b[0;32m---> 60\u001b[0;31m         \u001b[0;32mreturn\u001b[0m \u001b[0msignal\u001b[0m\u001b[0;34m.\u001b[0m\u001b[0mconvolve2d\u001b[0m\u001b[0;34m(\u001b[0m\u001b[0mimg\u001b[0m\u001b[0;34m,\u001b[0m \u001b[0mnp\u001b[0m\u001b[0;34m.\u001b[0m\u001b[0mrot90\u001b[0m\u001b[0;34m(\u001b[0m\u001b[0mfltr\u001b[0m\u001b[0;34m,\u001b[0m\u001b[0;36m2\u001b[0m\u001b[0;34m)\u001b[0m\u001b[0;34m,\u001b[0m \u001b[0mmode\u001b[0m\u001b[0;34m=\u001b[0m\u001b[0mmode\u001b[0m\u001b[0;34m)\u001b[0m\u001b[0;34m\u001b[0m\u001b[0;34m\u001b[0m\u001b[0m\n\u001b[0m\u001b[1;32m     61\u001b[0m \u001b[0;34m\u001b[0m\u001b[0m\n\u001b[1;32m     62\u001b[0m \u001b[0;32mdef\u001b[0m \u001b[0m_str_to_array\u001b[0m\u001b[0;34m(\u001b[0m\u001b[0mstr\u001b[0m\u001b[0;34m)\u001b[0m\u001b[0;34m:\u001b[0m\u001b[0;34m\u001b[0m\u001b[0;34m\u001b[0m\u001b[0m\n",
            "\u001b[0;32m/usr/local/lib/python3.7/dist-packages/scipy/signal/signaltools.py\u001b[0m in \u001b[0;36mconvolve2d\u001b[0;34m(in1, in2, mode, boundary, fillvalue)\u001b[0m\n\u001b[1;32m   1546\u001b[0m     \u001b[0mval\u001b[0m \u001b[0;34m=\u001b[0m \u001b[0m_valfrommode\u001b[0m\u001b[0;34m(\u001b[0m\u001b[0mmode\u001b[0m\u001b[0;34m)\u001b[0m\u001b[0;34m\u001b[0m\u001b[0;34m\u001b[0m\u001b[0m\n\u001b[1;32m   1547\u001b[0m     \u001b[0mbval\u001b[0m \u001b[0;34m=\u001b[0m \u001b[0m_bvalfromboundary\u001b[0m\u001b[0;34m(\u001b[0m\u001b[0mboundary\u001b[0m\u001b[0;34m)\u001b[0m\u001b[0;34m\u001b[0m\u001b[0;34m\u001b[0m\u001b[0m\n\u001b[0;32m-> 1548\u001b[0;31m     \u001b[0mout\u001b[0m \u001b[0;34m=\u001b[0m \u001b[0msigtools\u001b[0m\u001b[0;34m.\u001b[0m\u001b[0m_convolve2d\u001b[0m\u001b[0;34m(\u001b[0m\u001b[0min1\u001b[0m\u001b[0;34m,\u001b[0m \u001b[0min2\u001b[0m\u001b[0;34m,\u001b[0m \u001b[0;36m1\u001b[0m\u001b[0;34m,\u001b[0m \u001b[0mval\u001b[0m\u001b[0;34m,\u001b[0m \u001b[0mbval\u001b[0m\u001b[0;34m,\u001b[0m \u001b[0mfillvalue\u001b[0m\u001b[0;34m)\u001b[0m\u001b[0;34m\u001b[0m\u001b[0;34m\u001b[0m\u001b[0m\n\u001b[0m\u001b[1;32m   1549\u001b[0m     \u001b[0;32mreturn\u001b[0m \u001b[0mout\u001b[0m\u001b[0;34m\u001b[0m\u001b[0;34m\u001b[0m\u001b[0m\n\u001b[1;32m   1550\u001b[0m \u001b[0;34m\u001b[0m\u001b[0m\n",
            "\u001b[0;31mKeyboardInterrupt\u001b[0m: "
          ]
        }
      ]
    },
    {
      "cell_type": "code",
      "source": [
        "\"\"\"\n",
        "from itertools import chain\n",
        "#print(ind)\n",
        "flat_ind = list(chain.from_iterable(ind))\n",
        "print(flat_ind)\n",
        "df1 = pd.DataFrame(data,index=flat_ind,columns=col)\n",
        "df1.to_excel(\"/content/drive/MyDrive/UCD_Research/LANDSAT_8_Edge_Metric.xlsx\")\n",
        "\"\"\"    "
      ],
      "metadata": {
        "colab": {
          "base_uri": "https://localhost:8080/"
        },
        "id": "ckB2EgtmTXBk",
        "outputId": "0ba9bcc9-52bb-4ec3-bbad-35d1295d6af9"
      },
      "execution_count": null,
      "outputs": [
        {
          "output_type": "stream",
          "name": "stdout",
          "text": [
            "['Reference - 20010305', 'Canny_Image', 'Sobel_Image', 'Scharr_Image', 'Prewitt_Image', '_', 'Reference - 20010508', 'Canny_Image', 'Sobel_Image', 'Scharr_Image', 'Prewitt_Image', '_', 'Reference - 20010524', 'Canny_Image', 'Sobel_Image', 'Scharr_Image', 'Prewitt_Image', '_', 'Reference - 20010828', 'Canny_Image', 'Sobel_Image', 'Scharr_Image', 'Prewitt_Image', '_', 'Reference - 20011031', 'Canny_Image', 'Sobel_Image', 'Scharr_Image', 'Prewitt_Image', '_', 'Reference - 20020119', 'Canny_Image', 'Sobel_Image', 'Scharr_Image', 'Prewitt_Image', '_', 'Reference - 20021018', 'Canny_Image', 'Sobel_Image', 'Scharr_Image', 'Prewitt_Image', '_', 'Reference - 20021103', 'Canny_Image', 'Sobel_Image', 'Scharr_Image', 'Prewitt_Image', '_', 'Reference - 20030327', 'Canny_Image', 'Sobel_Image', 'Scharr_Image', 'Prewitt_Image', '_', 'Reference - 20030530', 'Canny_Image', 'Sobel_Image', 'Scharr_Image', 'Prewitt_Image', '_', 'Reference - 20031021', 'Canny_Image', 'Sobel_Image', 'Scharr_Image', 'Prewitt_Image', '_', 'Reference - 20040516', 'Canny_Image', 'Sobel_Image', 'Scharr_Image', 'Prewitt_Image', '_', 'Reference - 20041007', 'Canny_Image', 'Sobel_Image', 'Scharr_Image', 'Prewitt_Image', '_', 'Reference - 20060404', 'Canny_Image', 'Sobel_Image', 'Scharr_Image', 'Prewitt_Image', '_', 'Reference - 20070610', 'Canny_Image', 'Sobel_Image', 'Scharr_Image', 'Prewitt_Image', '_', 'Reference - 20090207', 'Canny_Image', 'Sobel_Image', 'Scharr_Image', 'Prewitt_Image', '_', 'Reference - 20090530', 'Canny_Image', 'Sobel_Image', 'Scharr_Image', 'Prewitt_Image', '_', 'Reference - 20100314', 'Canny_Image', 'Sobel_Image', 'Scharr_Image', 'Prewitt_Image', '_', 'Reference - 20100602', 'Canny_Image', 'Sobel_Image', 'Scharr_Image', 'Prewitt_Image', '_', 'Reference - 20101024', 'Canny_Image', 'Sobel_Image', 'Scharr_Image', 'Prewitt_Image', '_', 'Reference - 20101125', 'Canny_Image', 'Sobel_Image', 'Scharr_Image', 'Prewitt_Image', '_', 'Reference - 20110824', 'Canny_Image', 'Sobel_Image', 'Scharr_Image', 'Prewitt_Image', '_', 'Reference - 20111112', 'Canny_Image', 'Sobel_Image', 'Scharr_Image', 'Prewitt_Image', '_', 'Reference - 20120810', 'Canny_Image', 'Sobel_Image', 'Scharr_Image', 'Prewitt_Image', '_', 'Reference - 20120911', 'Canny_Image', 'Sobel_Image', 'Scharr_Image', 'Prewitt_Image', '_', 'Reference - 20160314', 'Canny_Image', 'Sobel_Image', 'Scharr_Image', 'Prewitt_Image', '_', 'Reference - 20190627', 'Canny_Image', 'Sobel_Image', 'Scharr_Image', 'Prewitt_Image', '_']\n"
          ]
        }
      ]
    },
    {
      "cell_type": "code",
      "source": [
        "\"\"\"\n",
        "New table rough structure:\n",
        "Dates --->\n",
        "Canny Sobel |^\n",
        "\n",
        "index_error_5 = []\n",
        "path = sorted(glob.glob(\"/content/drive/MyDrive/UCD_Research/Edge_LANDSAT_5/*.TIF\"))\n",
        "for file in path:\n",
        "  s = file.split(\"/\")\n",
        "  if s[6][9] == \"R\":\n",
        "    date_name = s[6][:8]\n",
        "    index_error.append(date_name)\n",
        "\"\"\"\n",
        "!pip install image_similarity_measures\n",
        "import image_similarity_measures\n",
        "from image_similarity_measures.quality_metrics import fsim, issm, sre\n"
      ],
      "metadata": {
        "id": "QPA4FeGTprJY",
        "colab": {
          "base_uri": "https://localhost:8080/"
        },
        "outputId": "55535ab6-8f01-44f3-fee0-3bfd1bb30c7a"
      },
      "execution_count": null,
      "outputs": [
        {
          "output_type": "stream",
          "name": "stdout",
          "text": [
            "Looking in indexes: https://pypi.org/simple, https://us-python.pkg.dev/colab-wheels/public/simple/\n",
            "Collecting image_similarity_measures\n",
            "  Downloading image_similarity_measures-0.3.5-py3-none-any.whl (9.1 kB)\n",
            "Requirement already satisfied: scikit-image in /usr/local/lib/python3.7/dist-packages (from image_similarity_measures) (0.18.3)\n",
            "Requirement already satisfied: opencv-python in /usr/local/lib/python3.7/dist-packages (from image_similarity_measures) (4.1.2.30)\n",
            "Collecting rasterio\n",
            "  Downloading rasterio-1.2.10-cp37-cp37m-manylinux1_x86_64.whl (19.3 MB)\n",
            "\u001b[K     |████████████████████████████████| 19.3 MB 1.2 MB/s \n",
            "\u001b[?25hCollecting phasepack\n",
            "  Downloading phasepack-1.5.tar.gz (15 kB)\n",
            "Collecting pyfftw\n",
            "  Downloading pyFFTW-0.13.0-cp37-cp37m-manylinux_2_5_x86_64.manylinux1_x86_64.whl (1.7 MB)\n",
            "\u001b[K     |████████████████████████████████| 1.7 MB 39.8 MB/s \n",
            "\u001b[?25hRequirement already satisfied: numpy in /usr/local/lib/python3.7/dist-packages (from image_similarity_measures) (1.21.6)\n",
            "Collecting click-plugins\n",
            "  Downloading click_plugins-1.1.1-py2.py3-none-any.whl (7.5 kB)\n",
            "Requirement already satisfied: setuptools in /usr/local/lib/python3.7/dist-packages (from rasterio->image_similarity_measures) (57.4.0)\n",
            "Requirement already satisfied: attrs in /usr/local/lib/python3.7/dist-packages (from rasterio->image_similarity_measures) (21.4.0)\n",
            "Collecting cligj>=0.5\n",
            "  Downloading cligj-0.7.2-py3-none-any.whl (7.1 kB)\n",
            "Collecting snuggs>=1.4.1\n",
            "  Downloading snuggs-1.4.7-py3-none-any.whl (5.4 kB)\n",
            "Collecting affine\n",
            "  Downloading affine-2.3.1-py2.py3-none-any.whl (16 kB)\n",
            "Requirement already satisfied: certifi in /usr/local/lib/python3.7/dist-packages (from rasterio->image_similarity_measures) (2022.6.15)\n",
            "Requirement already satisfied: click>=4.0 in /usr/local/lib/python3.7/dist-packages (from rasterio->image_similarity_measures) (7.1.2)\n",
            "Requirement already satisfied: pyparsing>=2.1.6 in /usr/local/lib/python3.7/dist-packages (from snuggs>=1.4.1->rasterio->image_similarity_measures) (3.0.9)\n",
            "Requirement already satisfied: scipy>=1.0.1 in /usr/local/lib/python3.7/dist-packages (from scikit-image->image_similarity_measures) (1.4.1)\n",
            "Requirement already satisfied: pillow!=7.1.0,!=7.1.1,>=4.3.0 in /usr/local/lib/python3.7/dist-packages (from scikit-image->image_similarity_measures) (7.1.2)\n",
            "Requirement already satisfied: tifffile>=2019.7.26 in /usr/local/lib/python3.7/dist-packages (from scikit-image->image_similarity_measures) (2021.11.2)\n",
            "Requirement already satisfied: imageio>=2.3.0 in /usr/local/lib/python3.7/dist-packages (from scikit-image->image_similarity_measures) (2.4.1)\n",
            "Requirement already satisfied: PyWavelets>=1.1.1 in /usr/local/lib/python3.7/dist-packages (from scikit-image->image_similarity_measures) (1.3.0)\n",
            "Requirement already satisfied: networkx>=2.0 in /usr/local/lib/python3.7/dist-packages (from scikit-image->image_similarity_measures) (2.6.3)\n",
            "Requirement already satisfied: matplotlib!=3.0.0,>=2.0.0 in /usr/local/lib/python3.7/dist-packages (from scikit-image->image_similarity_measures) (3.2.2)\n",
            "Requirement already satisfied: kiwisolver>=1.0.1 in /usr/local/lib/python3.7/dist-packages (from matplotlib!=3.0.0,>=2.0.0->scikit-image->image_similarity_measures) (1.4.3)\n",
            "Requirement already satisfied: python-dateutil>=2.1 in /usr/local/lib/python3.7/dist-packages (from matplotlib!=3.0.0,>=2.0.0->scikit-image->image_similarity_measures) (2.8.2)\n",
            "Requirement already satisfied: cycler>=0.10 in /usr/local/lib/python3.7/dist-packages (from matplotlib!=3.0.0,>=2.0.0->scikit-image->image_similarity_measures) (0.11.0)\n",
            "Requirement already satisfied: typing-extensions in /usr/local/lib/python3.7/dist-packages (from kiwisolver>=1.0.1->matplotlib!=3.0.0,>=2.0.0->scikit-image->image_similarity_measures) (4.1.1)\n",
            "Requirement already satisfied: six>=1.5 in /usr/local/lib/python3.7/dist-packages (from python-dateutil>=2.1->matplotlib!=3.0.0,>=2.0.0->scikit-image->image_similarity_measures) (1.15.0)\n",
            "Building wheels for collected packages: phasepack\n",
            "  Building wheel for phasepack (setup.py) ... \u001b[?25l\u001b[?25hdone\n",
            "  Created wheel for phasepack: filename=phasepack-1.5-py3-none-any.whl size=26984 sha256=c54b8c3af7d078e0647f65b167993640a2fd6109b1016af573f83122b7823735\n",
            "  Stored in directory: /root/.cache/pip/wheels/39/5c/b3/79292d7ac3f088e858805b5515b45cf5a365106397d936caf1\n",
            "Successfully built phasepack\n",
            "Installing collected packages: snuggs, cligj, click-plugins, affine, rasterio, pyfftw, phasepack, image-similarity-measures\n",
            "Successfully installed affine-2.3.1 click-plugins-1.1.1 cligj-0.7.2 image-similarity-measures-0.3.5 phasepack-1.5 pyfftw-0.13.0 rasterio-1.2.10 snuggs-1.4.7\n"
          ]
        }
      ]
    },
    {
      "cell_type": "code",
      "source": [
        "ind = [\"Canny_Filter\",\"Sobel_Filter\",\"Scharr_Filter\",\"Prewitt_Filter\"]\n",
        "col=[]\n",
        "data=[]\n",
        "df1 = pd.DataFrame(data,index=ind,columns=col)\n"
      ],
      "metadata": {
        "id": "YdSYDqZ8BVTW"
      },
      "execution_count": null,
      "outputs": []
    },
    {
      "cell_type": "code",
      "source": [
        "i=0\n",
        "path = sorted(glob.glob(\"/content/drive/MyDrive/UCD_Research/Edge_LANDSAT_5/*.TIF\"))\n",
        "for file in path:\n",
        "  s = file.split(\"/\")\n",
        "  pref = s[0]+\"/\"+s[1]+\"/\"+s[2]+\"/\"+s[3]+\"/\"+s[4]+\"/\"+s[5]+\"/\"\n",
        "  if s[6][9] == \"R\":\n",
        "    ref = cv2.imread(file)\n",
        "    date_name = s[6][:8]\n",
        "    can_name = pref+date_name+\"_Edge.TIF\"\n",
        "    sob_name = pref+date_name+\"_Sobel_Edge.TIF\"\n",
        "    sch_name = pref+date_name+\"_Scharr_Edge.TIF\"\n",
        "    pre_name = pref+date_name+\"_Prewitt_Edge.TIF\"\n",
        "    \n",
        "    can = cv2.imread(can_name)\n",
        "    sob = cv2.imread(sob_name)\n",
        "    sch = cv2.imread(sch_name)\n",
        "    pre = cv2.imread(pre_name)\n",
        "\n",
        "    rmse_can = rase(ref,can)\n",
        "    rmse_sob = rase(ref,sob)\n",
        "    rmse_sch = rase(ref,sch)\n",
        "    rmse_pre = rase(ref,pre)\n",
        "    rm = [rmse_can,rmse_sob,rmse_sch,rmse_pre]\n",
        "\n",
        "    df1.insert(i,date_name,rm,True)\n",
        "    print(\"Date done :\",date_name)\n",
        "    i+=1\n",
        "\n",
        "print(df1)"
      ],
      "metadata": {
        "colab": {
          "base_uri": "https://localhost:8080/"
        },
        "id": "o3y2s0EbsFjD",
        "outputId": "531b734c-ebdf-4489-b63c-9254feb6f4fb"
      },
      "execution_count": null,
      "outputs": [
        {
          "output_type": "stream",
          "name": "stderr",
          "text": [
            "/usr/local/lib/python3.7/dist-packages/sewar/full_ref.py:248: RuntimeWarning: divide by zero encountered in true_divide\n",
            "  rase_map = (100./M) * np.sqrt( np.sum(rmse_map**2,axis=2) / N )\n",
            "/usr/local/lib/python3.7/dist-packages/sewar/full_ref.py:248: RuntimeWarning: invalid value encountered in multiply\n",
            "  rase_map = (100./M) * np.sqrt( np.sum(rmse_map**2,axis=2) / N )\n"
          ]
        },
        {
          "output_type": "stream",
          "name": "stdout",
          "text": [
            "Date done : 19840704\n",
            "Date done : 19841125\n",
            "Date done : 19850418\n",
            "Date done : 19860912\n",
            "Date done : 19861115\n",
            "Date done : 19880613\n",
            "Date done : 19890702\n",
            "Date done : 19890718\n",
            "Date done : 19900721\n",
            "Date done : 19920523\n",
            "Date done : 19921030\n",
            "Date done : 19930627\n",
            "Date done : 19940326\n",
            "Date done : 19940902\n",
            "Date done : 19941004\n",
            "Date done : 19941105\n",
            "Date done : 19950225\n",
            "Date done : 19950414\n",
            "Date done : 19950804\n",
            "Date done : 19950820\n",
            "Date done : 19960228\n",
            "Date done : 19960619\n",
            "Date done : 19970910\n",
            "Date done : 19971113\n",
            "Date done : 19980201\n",
            "Date done : 19990916\n",
            "Date done : 19991119\n",
            "Date done : 20001020\n",
            "Date done : 20040218\n",
            "Date done : 20040305\n",
            "Date done : 20051119\n",
            "Date done : 20060428\n",
            "Date done : 20060717\n",
            "Date done : 20061106\n",
            "Date done : 20070501\n",
            "Date done : 20070922\n",
            "Date done : 20090420\n",
            "Date done : 20090911\n",
            "Date done : 20100525\n",
            "Date done : 20101016\n",
            "Date done : 20110325\n",
            "                19840704  19841125  19850418  19860912  19861115  19880613  \\\n",
            "Canny_Filter         NaN       NaN       NaN       NaN       NaN       NaN   \n",
            "Sobel_Filter         NaN       NaN       NaN       NaN       NaN       NaN   \n",
            "Scharr_Filter        NaN       NaN       NaN       NaN       NaN       NaN   \n",
            "Prewitt_Filter       NaN       NaN       NaN       NaN       NaN       NaN   \n",
            "\n",
            "                19890702  19890718  19900721  19920523  ...  20060428  \\\n",
            "Canny_Filter         NaN       NaN       NaN       NaN  ...       NaN   \n",
            "Sobel_Filter         NaN       NaN       NaN       NaN  ...       NaN   \n",
            "Scharr_Filter        NaN       NaN       NaN       NaN  ...       NaN   \n",
            "Prewitt_Filter       NaN       NaN       NaN       NaN  ...       NaN   \n",
            "\n",
            "                20060717  20061106  20070501  20070922  20090420  20090911  \\\n",
            "Canny_Filter         NaN       NaN       NaN       NaN       NaN       NaN   \n",
            "Sobel_Filter         NaN       NaN       NaN       NaN       NaN       NaN   \n",
            "Scharr_Filter        NaN       NaN       NaN       NaN       NaN       NaN   \n",
            "Prewitt_Filter       NaN       NaN       NaN       NaN       NaN       NaN   \n",
            "\n",
            "                20100525  20101016  20110325  \n",
            "Canny_Filter         NaN       NaN       NaN  \n",
            "Sobel_Filter         NaN       NaN       NaN  \n",
            "Scharr_Filter        NaN       NaN       NaN  \n",
            "Prewitt_Filter       NaN       NaN       NaN  \n",
            "\n",
            "[4 rows x 41 columns]\n"
          ]
        }
      ]
    },
    {
      "cell_type": "code",
      "source": [
        "df1.to_excel(\"/content/drive/MyDrive/UCD_Research/RASE.xlsx\")"
      ],
      "metadata": {
        "id": "COmEcWBftsta"
      },
      "execution_count": null,
      "outputs": []
    },
    {
      "cell_type": "code",
      "source": [
        ""
      ],
      "metadata": {
        "id": "p-wWEe_fuLWj"
      },
      "execution_count": null,
      "outputs": []
    }
  ],
  "metadata": {
    "colab": {
      "collapsed_sections": [],
      "name": "Land_Cover_Classification.ipynb",
      "provenance": [],
      "authorship_tag": "ABX9TyMN7hSksLtaZbS37fT0mIoq",
      "include_colab_link": true
    },
    "kernelspec": {
      "display_name": "Python 3",
      "name": "python3"
    },
    "language_info": {
      "name": "python"
    },
    "gpuClass": "standard"
  },
  "nbformat": 4,
  "nbformat_minor": 0
}